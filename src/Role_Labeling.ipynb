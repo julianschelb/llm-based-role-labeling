{
 "cells": [
  {
   "cell_type": "markdown",
   "metadata": {},
   "source": [
    "# Role Labeling"
   ]
  },
  {
   "cell_type": "markdown",
   "metadata": {},
   "source": [
    "One way to identify narratives in newspaper text is through considering the character archetypes relied on to compose the framing of an article. The main figures in an article may be represented as the heroes, villains, or victims in the text to guide the reader towards reading the article in context with existing qualities implicit in these character archetypes. Gomez-Zara et al present a dictionary-based method for computationally determining the hero, villain, and victim in a newspaper text, which Stammbach et al adapt by using an LLM for the same task. "
   ]
  },
  {
   "cell_type": "markdown",
   "metadata": {},
   "source": [
    "## Fetch Articles"
   ]
  },
  {
   "cell_type": "code",
   "execution_count": 1,
   "metadata": {},
   "outputs": [
    {
     "name": "stderr",
     "output_type": "stream",
     "text": [
      "/home/jschelb/.pyenv/versions/3.10.8/envs/mediacloud/lib/python3.10/site-packages/tqdm/auto.py:21: TqdmWarning: IProgress not found. Please update jupyter and ipywidgets. See https://ipywidgets.readthedocs.io/en/stable/user_install.html\n",
      "  from .autonotebook import tqdm as notebook_tqdm\n"
     ]
    }
   ],
   "source": [
    "from utils.preprocessing import *\n",
    "from utils.accelerators import *\n",
    "from utils.multithreading import *\n",
    "from utils.database import *\n",
    "from utils.files import *\n",
    "from datasets import Dataset\n",
    "import random"
   ]
  },
  {
   "cell_type": "markdown",
   "metadata": {},
   "source": [
    "### Connect to Database"
   ]
  },
  {
   "cell_type": "markdown",
   "metadata": {},
   "source": [
    "Credentials are sourced from the `.env` file."
   ]
  },
  {
   "cell_type": "code",
   "execution_count": 2,
   "metadata": {},
   "outputs": [],
   "source": [
    "_, db = getConnection(use_dotenv=True)"
   ]
  },
  {
   "cell_type": "markdown",
   "metadata": {},
   "source": [
    "### Query Database"
   ]
  },
  {
   "cell_type": "markdown",
   "metadata": {},
   "source": [
    "Fetches a limited number of articles from the database that haven't been processed yet, \n",
    "returning specified fields like url, title, and parsing result text."
   ]
  },
  {
   "cell_type": "code",
   "execution_count": 3,
   "metadata": {},
   "outputs": [],
   "source": [
    "collection = \"articles\"\n",
    "fields = {\"url\": 1, \"title\": 1, \"parsing_result.text\": 1}\n",
    "query = {\"processing_result\": {\"$exists\": False}, \n",
    "         \"parsing_result.text_length\": {\"$lt\": 10000}}\n",
    "articles = fetchArticleTexts(db, 50, 0, fields, query, collection)"
   ]
  },
  {
   "cell_type": "markdown",
   "metadata": {},
   "source": [
    "Example article:"
   ]
  },
  {
   "cell_type": "code",
   "execution_count": 4,
   "metadata": {},
   "outputs": [
    {
     "name": "stdout",
     "output_type": "stream",
     "text": [
      "Title: Court chaos continues as right-wing True the Vote leaders are thrown in jail\n",
      "Text: The two leaders of the far-right group True the Vote have been hauled off to jail as of Monday afternoon, according to Votebeat Texas. Gregg Philips and Catherine Engelbrecht were told that until they follow a federal judge's order to identify the man they say is an FBI informant in a defamation case they must remain in jail. The case involves a right-wing conspiracy theory about misconduct by the technology company Konnech, which has since sued True The Vote for defamation. They allege that the group is targeting their company in a viral social media campaign that is damaging their business and it has resulted in a barrage of threats against the CEO and his family. Philips and Engelbrecht claimed that an unidentified man, allegedly an FBI agent, helped investigate the company for they say giving poll worker information to China. In fact, they're misconstruing an actual case in which the CEO, Eugene Yu is accused of compromising a very small amount of county employee voter data to China. RELATED: Top MD Republican's aide encouraged supporters to form ‘long lines’ late on Election Day \"Of course, that criminal case does not show anything resembling the election fraud True the Vote has falsely claimed went down in the U.S.\" said Votebeat Texas. The group is the same one behind the 2,000 mules movie that alleges a slew of unfounded election conspiracies. Donald Trump's insistence on pushing boundaries in his criminal cases could come back to bite him in Georgia, former Richard Nixon White House counsel John Dean said on Saturday. Dean, who testified before the Senate Watergate Committee in 1973, appeared on CNN Newsroom with Jim Acosta where he was asked about the former president's consistent attacks on those prosecuting him in various jurisdictions. Dean previously said Special Counsel Jack Smith's \"bulletproof\" indictment derailed Trump's \"free speech\" defense.      There are a number of things Judge Chutkan can do to a criminal defendant who acts out of line, but one of those things is most likely to resonate with Donald Trump, a former prosecutor said on Saturday. Former Brooklyn, NY, prosecutor Charles Coleman appeared on MSNBC's Symone and was asked about a warning Chutkan gave the former president's legal team during a hearing on a protective order. The host asked Coleman what options Chutkan might have if Trump continues to lash out against the judge, prosecution, and witnesses, but only one stood out.      Donald Trump reportedly vowed Saturday he will never accept any plea deal in any of the criminal cases against him, as prosecutors in Georgia are expected to hand down another indictment against the former president. Trump, who reporting suggests could be hit with an indictment out of Georgia as early as Tuesday of next week, has ruled out the potential for taking a deal from prosecutors, according to Forbes.        Copyright © 2023 Raw Story Media, Inc. PO Box 21050, Washington, D.C. 20009 |\n",
      "    Masthead  |\n",
      "    Privacy Policy  |\n",
      "    Manage Preferences | Debug Logs\n",
      "    For corrections contact\n",
      "    corrections@rawstory.com, for support contact\n",
      "    support@rawstory.com.\n"
     ]
    }
   ],
   "source": [
    "example_article = random.choice(articles)\n",
    "title = example_article.get(\"title\")\n",
    "text = example_article.get(\"parsing_result\").get(\"text\")\n",
    "print(f\"Title: {title}\\nText: {text}\")\n"
   ]
  },
  {
   "cell_type": "markdown",
   "metadata": {},
   "source": [
    "\n",
    "Processes the 'parsing_result' of each article to clean the text, and filters out articles \n",
    "that lack a 'title' or 'parsing_result'.\n"
   ]
  },
  {
   "cell_type": "code",
   "execution_count": 5,
   "metadata": {},
   "outputs": [
    {
     "name": "stderr",
     "output_type": "stream",
     "text": [
      "Cleaning articles: 100%|██████████| 50/50 [00:00<00:00, 4230.18it/s]\n"
     ]
    }
   ],
   "source": [
    "# Basic text cleaning, e.g. removing newlines, tabs, etc.\n",
    "articles = cleanArticles(articles)"
   ]
  },
  {
   "cell_type": "code",
   "execution_count": 6,
   "metadata": {},
   "outputs": [
    {
     "name": "stdout",
     "output_type": "stream",
     "text": [
      "Number of articles: 50\n"
     ]
    }
   ],
   "source": [
    "# Filter out articles with no title or no parsing result \n",
    "articles = [article for article in articles if article.get(\n",
    "    \"title\", \"\") and article.get(\"parsing_result\", \"\")]\n",
    "\n",
    "print(\"Number of articles:\", len(articles))"
   ]
  },
  {
   "cell_type": "markdown",
   "metadata": {},
   "source": [
    "### Export as JSON"
   ]
  },
  {
   "cell_type": "markdown",
   "metadata": {},
   "source": [
    "Saves the given data to a JSON file for optional visual inspection."
   ]
  },
  {
   "cell_type": "code",
   "execution_count": 7,
   "metadata": {},
   "outputs": [],
   "source": [
    "exportAsJSON(\"../data/input/articles.json\",  articles)"
   ]
  },
  {
   "cell_type": "markdown",
   "metadata": {},
   "source": [
    "### Convert to HF Dataset"
   ]
  },
  {
   "cell_type": "markdown",
   "metadata": {},
   "source": [
    "Convert article IDs to strings and transform a list of articles into a dataset with fields: id, title, url, and text extracted from parsing results. The HuggingFace `datasets` library provides several key advantages over plain JSON files:\n",
    "\n",
    "- **Efficiency**: The datasets are memory-mapped, allowing you to work with data that's larger than your available RAM without loading the entire dataset into memory. \n",
    "- **Speed**: Datasets in the HuggingFace format (which is Arrow-based) can be loaded faster than large JSON files, facilitating quicker data operations.\n",
    "- **Columnar Storage**: By using Apache Arrow for storage, HuggingFace datasets benefit from a columnar format that ensures more efficient serialization and deserialization compared to row-based storage, such as JSON.\n"
   ]
  },
  {
   "cell_type": "code",
   "execution_count": 8,
   "metadata": {},
   "outputs": [
    {
     "name": "stdout",
     "output_type": "stream",
     "text": [
      "Number of rows: 50\n",
      "Column names: ['_id', 'title', 'url', 'text']\n",
      "Features (schema): {'_id': Value(dtype='string', id=None), 'title': Value(dtype='string', id=None), 'url': Value(dtype='string', id=None), 'text': Value(dtype='string', id=None)}\n"
     ]
    }
   ],
   "source": [
    "column_names = [\"_id\", \"title\", \"url\", \"parsing_result.text\"]\n",
    "articles = convertListToDataset(articles, column_names)\n",
    "describeDataset(articles)"
   ]
  },
  {
   "cell_type": "code",
   "execution_count": 9,
   "metadata": {},
   "outputs": [
    {
     "name": "stdout",
     "output_type": "stream",
     "text": [
      "Example Article Text: Kari Lake, the Trump-backed Republican nominee for governor of Arizona, is unfit for office. We've k\n"
     ]
    }
   ],
   "source": [
    "print(\"Example Article Text:\", articles[42][\"text\"][:100])"
   ]
  },
  {
   "cell_type": "markdown",
   "metadata": {},
   "source": [
    "Save dataset to disk:"
   ]
  },
  {
   "cell_type": "code",
   "execution_count": 10,
   "metadata": {},
   "outputs": [
    {
     "name": "stderr",
     "output_type": "stream",
     "text": [
      "Saving the dataset (1/1 shards): 100%|██████████| 50/50 [00:00<00:00, 8364.52 examples/s]\n"
     ]
    }
   ],
   "source": [
    "articles.save_to_disk('../data/input/articles')"
   ]
  },
  {
   "cell_type": "markdown",
   "metadata": {},
   "source": [
    "***"
   ]
  },
  {
   "cell_type": "markdown",
   "metadata": {},
   "source": [
    "## Prepare Dataset "
   ]
  },
  {
   "cell_type": "code",
   "execution_count": 11,
   "metadata": {},
   "outputs": [],
   "source": [
    "from langchain.text_splitter import RecursiveCharacterTextSplitter, CharacterTextSplitter\n",
    "from datasets import Dataset, load_from_disk\n",
    "from transformers import AutoTokenizer\n",
    "from multiprocessing import Pool\n",
    "from utils.preprocessing import *\n",
    "from utils.database import *\n",
    "from utils.files import *\n",
    "import transformers"
   ]
  },
  {
   "cell_type": "markdown",
   "metadata": {},
   "source": [
    "The code `os.environ[\"TOKENIZERS_PARALLELISM\"] = \"false\"` disables parallel tokenization in HuggingFace's libraries. It's a way to suppress warnings and prevent potential issues tied to multi-core tokenization.\n",
    "See: https://stackoverflow.com/questions/62691279/how-to-disable-tokenizers-parallelism-true-false-warning"
   ]
  },
  {
   "cell_type": "code",
   "execution_count": 12,
   "metadata": {},
   "outputs": [],
   "source": [
    "import os\n",
    "os.environ[\"TOKENIZERS_PARALLELISM\"] = \"false\"\n",
    "transformers.utils.logging.set_verbosity_error()"
   ]
  },
  {
   "cell_type": "markdown",
   "metadata": {},
   "source": [
    "### Import Raw Dataset"
   ]
  },
  {
   "cell_type": "code",
   "execution_count": 13,
   "metadata": {},
   "outputs": [
    {
     "name": "stdout",
     "output_type": "stream",
     "text": [
      "Number of rows: 50\n",
      "Column names: ['_id', 'title', 'url', 'text']\n",
      "Features (schema): {'_id': Value(dtype='string', id=None), 'title': Value(dtype='string', id=None), 'url': Value(dtype='string', id=None), 'text': Value(dtype='string', id=None)}\n"
     ]
    }
   ],
   "source": [
    "articles = load_from_disk('../data/input/articles')\n",
    "describeDataset(articles)"
   ]
  },
  {
   "cell_type": "markdown",
   "metadata": {},
   "source": [
    "### Prepare Dataset"
   ]
  },
  {
   "cell_type": "markdown",
   "metadata": {},
   "source": [
    "#### Define Prompt Template:"
   ]
  },
  {
   "cell_type": "code",
   "execution_count": 14,
   "metadata": {},
   "outputs": [
    {
     "name": "stdout",
     "output_type": "stream",
     "text": [
      "Who is the hero in the following text?\n",
      "Text: Lorem ipsum dolor sit amet, consectetur adipiscing elit.\n"
     ]
    }
   ],
   "source": [
    "PROMPT_TEMPLATE = \"Who is the {elt} in the following text?\\nText: {article_text}\"\n",
    "\n",
    "# Test the template with a dummy text\n",
    "print(PROMPT_TEMPLATE.format(elt='hero',\n",
    "      article_text='Lorem ipsum dolor sit amet, consectetur adipiscing elit.'))"
   ]
  },
  {
   "cell_type": "markdown",
   "metadata": {},
   "source": [
    "#### Expand Dataset"
   ]
  },
  {
   "cell_type": "markdown",
   "metadata": {},
   "source": [
    "Functions to segment articles into chunks fitting within the input window:"
   ]
  },
  {
   "cell_type": "code",
   "execution_count": 15,
   "metadata": {},
   "outputs": [
    {
     "name": "stdout",
     "output_type": "stream",
     "text": [
      "Input window length: 512\n"
     ]
    }
   ],
   "source": [
    "# Load the tokenizer\n",
    "tokenizer = AutoTokenizer.from_pretrained(\"google/flan-t5-large\")\n",
    "print(\"Input window length:\", tokenizer.model_max_length)"
   ]
  },
  {
   "cell_type": "code",
   "execution_count": 16,
   "metadata": {},
   "outputs": [
    {
     "name": "stdout",
     "output_type": "stream",
     "text": [
      "Max length of empty prompt template: 13\n"
     ]
    }
   ],
   "source": [
    "template_length = calcInputLength(tokenizer,\n",
    "    PROMPT_TEMPLATE.format(elt='villain', article_text=' '))\n",
    "print(\"Max length of empty prompt template:\", template_length)"
   ]
  },
  {
   "cell_type": "markdown",
   "metadata": {},
   "source": [
    "For each article, distinct prompts identify 'hero', 'villain', and 'victim'. If an article exceeds the model's input size, it's divided into chunks, generating additional prompts. It seems that one article results in about 10 to 12 prompts."
   ]
  },
  {
   "cell_type": "code",
   "execution_count": 17,
   "metadata": {},
   "outputs": [
    {
     "data": {
      "text/plain": [
       "{'_id': '64d8e926516b265872e62a24',\n",
       " 'title': \"Kari Lake's Joke About Pelosi Attack Draws Laughter From GOP Crowd\",\n",
       " 'url': 'https://crooksandliars.com/2022/10/kari-lakes-joke-about-pelosi-attack-0',\n",
       " 'text': 'Kari Lake, the Trump-backed Republican nominee for governor of Arizona, is unfit for office. We\\'ve known this for a while, but she just proved that she lacks the empathy gene which should be required to hold office. On Monday, Lake made a joke about the violent assault against Speaker Nancy Pelosi\\'s husband on Friday that landed him in the hospital, where he is still recovering from brain surgery. Do you remember in 2019 when a Trump supporter said the quiet part out loud, saying, \"He\\'s (Trump) not hurting the people he needs to be hurting\"? That is who Republicans have become. Conservatives want Democrats to hurt and suffer. The GOP has become the party of victimization, so they think they\\'re owed something. \"It is not impossible to protect our kids at school. They act like it is,\" Lake said at a campaign stop along her \"Ask Me Anything\" tour. \"Nancy Pelosi — well, she\\'s got protection when she\\'s in D.C. Apparently, her house doesn\\'t have a lot of protection,\" Lake said, which brought laughter and applause from the crowd. David DePape, 42, broke into the Pelosis\\' home, but the House Speaker was out of town. According to court papers, the QAnon Trump cultist planned to take Nancy Pelosi hostage and \"break her kneecaps.\" Conservatives think that horrific incident is funny. Former President Donald Trump on Sunday called the attack on Paul Pelosi a \"terrible thing.\" But then he used it for political purposes, tying the incident to Democratic policies on crime. But DePape is a Trump supporter. Meanwhile, Don Jr. posted a thoroughly disgusting tweet about the attack. These sadistic responses to the attack on Pelosi is who MAGA Republicans are. They are openly mocking an assassination attempt on one of our Democratic leaders. What is their platform?: Let\\'s hurt the right people! There was a time when saying something so awful would put you out of political office for life. Be sure and vote. For 18 years we have been exposing Washington lies and untangling media deceit, but now Facebook is drowning us in an ocean of right wing lies. Please give a one-time or recurring donation, or buy a year\\'s subscription for an ad-free experience. Thank you. To become an ad-free subscriber please select one of the following two options. Once you click your selected plan a window will open taking you to Admiral, our ad-free partner. If you don\\'t mind the ads and would rather donate, please select one of the options below:'}"
      ]
     },
     "execution_count": 17,
     "metadata": {},
     "output_type": "execute_result"
    }
   ],
   "source": [
    "articles[42]"
   ]
  },
  {
   "cell_type": "code",
   "execution_count": 18,
   "metadata": {},
   "outputs": [
    {
     "name": "stdout",
     "output_type": "stream",
     "text": [
      "Expanded row: [{'_id': '64d8e926516b265872e62a24', 'title': \"Kari Lake's Joke About Pelosi Attack Draws Laughter From GOP Crowd\", 'url': 'https://crooksandliars.com/2022/10/kari-lakes-joke-about-pelosi-attack-0', 'text': 'Kari Lake, the Trump-backed Republican nominee for governor of Arizona, is unfit for office. We\\'ve known this for a while, but she just proved that she lacks the empathy gene which should be required to hold office. On Monday, Lake made a joke about the violent assault against Speaker Nancy Pelosi\\'s husband on Friday that landed him in the hospital, where he is still recovering from brain surgery. Do you remember in 2019 when a Trump supporter said the quiet part out loud, saying, \"He\\'s (Trump) not hurting the people he needs to be hurting\"? That is who Republicans have become. Conservatives want Democrats to hurt and suffer. The GOP has become the party of victimization, so they think they\\'re owed something. \"It is not impossible to protect our kids at school. They act like it is,\" Lake said at a campaign stop along her \"Ask Me Anything\" tour. \"Nancy Pelosi — well, she\\'s got protection when she\\'s in D.C. Apparently, her house doesn\\'t have a lot of protection,\" Lake said, which brought laughter and applause from the crowd. David DePape, 42, broke into the Pelosis\\' home, but the House Speaker was out of town. According to court papers, the QAnon Trump cultist planned to take Nancy Pelosi hostage and \"break her kneecaps.\" Conservatives think that horrific incident is funny. Former President Donald Trump on Sunday called the attack on Paul Pelosi a \"terrible thing.\" But then he used it for political purposes, tying the incident to Democratic policies on crime. But DePape is a Trump supporter. Meanwhile, Don Jr. posted a thoroughly disgusting tweet about the attack. These sadistic responses to the attack on Pelosi is who MAGA Republicans are. They are openly mocking an assassination attempt on one of our Democratic leaders. What is their platform?: Let\\'s hurt the right people! There was a time when saying something so awful would put you out of political office for life. Be sure and vote. For 18 years we have been exposing Washington lies and untangling media deceit, but now Facebook is drowning us in an ocean of right wing lies. Please give a one-time or recurring donation, or buy a year\\'s subscription for an ad-free experience. Thank you. To become an ad-free subscriber please select one of the following two options. Once you click your selected plan a window will open taking you to Admiral, our ad-free partner. If you don\\'t mind the ads and would rather donate, please select one of the options below:', 'prompt': 'Who is the hero in the following text?\\nText: Kari Lake, the Trump-backed Republican nominee for governor of Arizona, is unfit for office. We\\'ve known this for a while, but she just proved that she lacks the empathy gene which should be required to hold office. On Monday, Lake made a joke about the violent assault against Speaker Nancy Pelosi\\'s husband on Friday that landed him in the hospital, where he is still recovering from brain surgery. Do you remember in 2019 when a Trump supporter said the quiet part out loud, saying, \"He\\'s (Trump) not hurting the people he needs to be hurting\"? That is who Republicans have become. Conservatives want Democrats to hurt and suffer. The GOP has become the party of victimization, so they think they\\'re owed something. \"It is not impossible to protect our kids at school. They act like it is,\" Lake said at a campaign stop along her \"Ask Me Anything\" tour. \"Nancy Pelosi — well, she\\'s got protection when she\\'s in D.C. Apparently, her house doesn\\'t have a lot of protection,\" Lake said, which brought laughter and applause from the crowd. David DePape, 42, broke into the Pelosis\\' home, but the House Speaker was out of town. According to court papers, the QAnon Trump cultist planned to take Nancy Pelosi hostage and \"break her kneecaps.\" Conservatives think that horrific incident is funny. Former President Donald Trump on Sunday called the attack on Paul Pelosi a \"terrible thing.\" But then he used it for political purposes, tying the incident to Democratic policies on crime. But DePape is a Trump supporter. Meanwhile, Don Jr. posted a thoroughly disgusting tweet about the attack. These sadistic responses to the attack on Pelosi is who MAGA Republicans are. They are openly mocking an assassination attempt on one of our Democratic leaders. What is their platform?: Let\\'s hurt the right people! There was ', 'role': 'hero', 'chunk': 0, 'chunk_length': 451}, {'_id': '64d8e926516b265872e62a24', 'title': \"Kari Lake's Joke About Pelosi Attack Draws Laughter From GOP Crowd\", 'url': 'https://crooksandliars.com/2022/10/kari-lakes-joke-about-pelosi-attack-0', 'text': 'Kari Lake, the Trump-backed Republican nominee for governor of Arizona, is unfit for office. We\\'ve known this for a while, but she just proved that she lacks the empathy gene which should be required to hold office. On Monday, Lake made a joke about the violent assault against Speaker Nancy Pelosi\\'s husband on Friday that landed him in the hospital, where he is still recovering from brain surgery. Do you remember in 2019 when a Trump supporter said the quiet part out loud, saying, \"He\\'s (Trump) not hurting the people he needs to be hurting\"? That is who Republicans have become. Conservatives want Democrats to hurt and suffer. The GOP has become the party of victimization, so they think they\\'re owed something. \"It is not impossible to protect our kids at school. They act like it is,\" Lake said at a campaign stop along her \"Ask Me Anything\" tour. \"Nancy Pelosi — well, she\\'s got protection when she\\'s in D.C. Apparently, her house doesn\\'t have a lot of protection,\" Lake said, which brought laughter and applause from the crowd. David DePape, 42, broke into the Pelosis\\' home, but the House Speaker was out of town. According to court papers, the QAnon Trump cultist planned to take Nancy Pelosi hostage and \"break her kneecaps.\" Conservatives think that horrific incident is funny. Former President Donald Trump on Sunday called the attack on Paul Pelosi a \"terrible thing.\" But then he used it for political purposes, tying the incident to Democratic policies on crime. But DePape is a Trump supporter. Meanwhile, Don Jr. posted a thoroughly disgusting tweet about the attack. These sadistic responses to the attack on Pelosi is who MAGA Republicans are. They are openly mocking an assassination attempt on one of our Democratic leaders. What is their platform?: Let\\'s hurt the right people! There was a time when saying something so awful would put you out of political office for life. Be sure and vote. For 18 years we have been exposing Washington lies and untangling media deceit, but now Facebook is drowning us in an ocean of right wing lies. Please give a one-time or recurring donation, or buy a year\\'s subscription for an ad-free experience. Thank you. To become an ad-free subscriber please select one of the following two options. Once you click your selected plan a window will open taking you to Admiral, our ad-free partner. If you don\\'t mind the ads and would rather donate, please select one of the options below:', 'prompt': \"Who is the hero in the following text?\\nText: 's hurt the right people! There was a time when saying something so awful would put you out of political office for life. Be sure and vote. For 18 years we have been exposing Washington lies and untangling media deceit, but now Facebook is drowning us in an ocean of right wing lies. Please give a one-time or recurring donation, or buy a year's subscription for an ad-free experience. Thank you. To become an ad-free subscriber please select one of the following two options. Once you click your selected plan a window will open taking you to Admiral, our ad-free partner. If you don't mind the ads and would rather donate, please select one of the options below:\", 'role': 'hero', 'chunk': 1, 'chunk_length': 166}, {'_id': '64d8e926516b265872e62a24', 'title': \"Kari Lake's Joke About Pelosi Attack Draws Laughter From GOP Crowd\", 'url': 'https://crooksandliars.com/2022/10/kari-lakes-joke-about-pelosi-attack-0', 'text': 'Kari Lake, the Trump-backed Republican nominee for governor of Arizona, is unfit for office. We\\'ve known this for a while, but she just proved that she lacks the empathy gene which should be required to hold office. On Monday, Lake made a joke about the violent assault against Speaker Nancy Pelosi\\'s husband on Friday that landed him in the hospital, where he is still recovering from brain surgery. Do you remember in 2019 when a Trump supporter said the quiet part out loud, saying, \"He\\'s (Trump) not hurting the people he needs to be hurting\"? That is who Republicans have become. Conservatives want Democrats to hurt and suffer. The GOP has become the party of victimization, so they think they\\'re owed something. \"It is not impossible to protect our kids at school. They act like it is,\" Lake said at a campaign stop along her \"Ask Me Anything\" tour. \"Nancy Pelosi — well, she\\'s got protection when she\\'s in D.C. Apparently, her house doesn\\'t have a lot of protection,\" Lake said, which brought laughter and applause from the crowd. David DePape, 42, broke into the Pelosis\\' home, but the House Speaker was out of town. According to court papers, the QAnon Trump cultist planned to take Nancy Pelosi hostage and \"break her kneecaps.\" Conservatives think that horrific incident is funny. Former President Donald Trump on Sunday called the attack on Paul Pelosi a \"terrible thing.\" But then he used it for political purposes, tying the incident to Democratic policies on crime. But DePape is a Trump supporter. Meanwhile, Don Jr. posted a thoroughly disgusting tweet about the attack. These sadistic responses to the attack on Pelosi is who MAGA Republicans are. They are openly mocking an assassination attempt on one of our Democratic leaders. What is their platform?: Let\\'s hurt the right people! There was a time when saying something so awful would put you out of political office for life. Be sure and vote. For 18 years we have been exposing Washington lies and untangling media deceit, but now Facebook is drowning us in an ocean of right wing lies. Please give a one-time or recurring donation, or buy a year\\'s subscription for an ad-free experience. Thank you. To become an ad-free subscriber please select one of the following two options. Once you click your selected plan a window will open taking you to Admiral, our ad-free partner. If you don\\'t mind the ads and would rather donate, please select one of the options below:', 'prompt': 'Who is the villain in the following text?\\nText: Kari Lake, the Trump-backed Republican nominee for governor of Arizona, is unfit for office. We\\'ve known this for a while, but she just proved that she lacks the empathy gene which should be required to hold office. On Monday, Lake made a joke about the violent assault against Speaker Nancy Pelosi\\'s husband on Friday that landed him in the hospital, where he is still recovering from brain surgery. Do you remember in 2019 when a Trump supporter said the quiet part out loud, saying, \"He\\'s (Trump) not hurting the people he needs to be hurting\"? That is who Republicans have become. Conservatives want Democrats to hurt and suffer. The GOP has become the party of victimization, so they think they\\'re owed something. \"It is not impossible to protect our kids at school. They act like it is,\" Lake said at a campaign stop along her \"Ask Me Anything\" tour. \"Nancy Pelosi — well, she\\'s got protection when she\\'s in D.C. Apparently, her house doesn\\'t have a lot of protection,\" Lake said, which brought laughter and applause from the crowd. David DePape, 42, broke into the Pelosis\\' home, but the House Speaker was out of town. According to court papers, the QAnon Trump cultist planned to take Nancy Pelosi hostage and \"break her kneecaps.\" Conservatives think that horrific incident is funny. Former President Donald Trump on Sunday called the attack on Paul Pelosi a \"terrible thing.\" But then he used it for political purposes, tying the incident to Democratic policies on crime. But DePape is a Trump supporter. Meanwhile, Don Jr. posted a thoroughly disgusting tweet about the attack. These sadistic responses to the attack on Pelosi is who MAGA Republicans are. They are openly mocking an assassination attempt on one of our Democratic leaders. What is their platform?: Let\\'s hurt the right people! There was ', 'role': 'villain', 'chunk': 0, 'chunk_length': 451}, {'_id': '64d8e926516b265872e62a24', 'title': \"Kari Lake's Joke About Pelosi Attack Draws Laughter From GOP Crowd\", 'url': 'https://crooksandliars.com/2022/10/kari-lakes-joke-about-pelosi-attack-0', 'text': 'Kari Lake, the Trump-backed Republican nominee for governor of Arizona, is unfit for office. We\\'ve known this for a while, but she just proved that she lacks the empathy gene which should be required to hold office. On Monday, Lake made a joke about the violent assault against Speaker Nancy Pelosi\\'s husband on Friday that landed him in the hospital, where he is still recovering from brain surgery. Do you remember in 2019 when a Trump supporter said the quiet part out loud, saying, \"He\\'s (Trump) not hurting the people he needs to be hurting\"? That is who Republicans have become. Conservatives want Democrats to hurt and suffer. The GOP has become the party of victimization, so they think they\\'re owed something. \"It is not impossible to protect our kids at school. They act like it is,\" Lake said at a campaign stop along her \"Ask Me Anything\" tour. \"Nancy Pelosi — well, she\\'s got protection when she\\'s in D.C. Apparently, her house doesn\\'t have a lot of protection,\" Lake said, which brought laughter and applause from the crowd. David DePape, 42, broke into the Pelosis\\' home, but the House Speaker was out of town. According to court papers, the QAnon Trump cultist planned to take Nancy Pelosi hostage and \"break her kneecaps.\" Conservatives think that horrific incident is funny. Former President Donald Trump on Sunday called the attack on Paul Pelosi a \"terrible thing.\" But then he used it for political purposes, tying the incident to Democratic policies on crime. But DePape is a Trump supporter. Meanwhile, Don Jr. posted a thoroughly disgusting tweet about the attack. These sadistic responses to the attack on Pelosi is who MAGA Republicans are. They are openly mocking an assassination attempt on one of our Democratic leaders. What is their platform?: Let\\'s hurt the right people! There was a time when saying something so awful would put you out of political office for life. Be sure and vote. For 18 years we have been exposing Washington lies and untangling media deceit, but now Facebook is drowning us in an ocean of right wing lies. Please give a one-time or recurring donation, or buy a year\\'s subscription for an ad-free experience. Thank you. To become an ad-free subscriber please select one of the following two options. Once you click your selected plan a window will open taking you to Admiral, our ad-free partner. If you don\\'t mind the ads and would rather donate, please select one of the options below:', 'prompt': \"Who is the villain in the following text?\\nText: 's hurt the right people! There was a time when saying something so awful would put you out of political office for life. Be sure and vote. For 18 years we have been exposing Washington lies and untangling media deceit, but now Facebook is drowning us in an ocean of right wing lies. Please give a one-time or recurring donation, or buy a year's subscription for an ad-free experience. Thank you. To become an ad-free subscriber please select one of the following two options. Once you click your selected plan a window will open taking you to Admiral, our ad-free partner. If you don't mind the ads and would rather donate, please select one of the options below:\", 'role': 'villain', 'chunk': 1, 'chunk_length': 166}, {'_id': '64d8e926516b265872e62a24', 'title': \"Kari Lake's Joke About Pelosi Attack Draws Laughter From GOP Crowd\", 'url': 'https://crooksandliars.com/2022/10/kari-lakes-joke-about-pelosi-attack-0', 'text': 'Kari Lake, the Trump-backed Republican nominee for governor of Arizona, is unfit for office. We\\'ve known this for a while, but she just proved that she lacks the empathy gene which should be required to hold office. On Monday, Lake made a joke about the violent assault against Speaker Nancy Pelosi\\'s husband on Friday that landed him in the hospital, where he is still recovering from brain surgery. Do you remember in 2019 when a Trump supporter said the quiet part out loud, saying, \"He\\'s (Trump) not hurting the people he needs to be hurting\"? That is who Republicans have become. Conservatives want Democrats to hurt and suffer. The GOP has become the party of victimization, so they think they\\'re owed something. \"It is not impossible to protect our kids at school. They act like it is,\" Lake said at a campaign stop along her \"Ask Me Anything\" tour. \"Nancy Pelosi — well, she\\'s got protection when she\\'s in D.C. Apparently, her house doesn\\'t have a lot of protection,\" Lake said, which brought laughter and applause from the crowd. David DePape, 42, broke into the Pelosis\\' home, but the House Speaker was out of town. According to court papers, the QAnon Trump cultist planned to take Nancy Pelosi hostage and \"break her kneecaps.\" Conservatives think that horrific incident is funny. Former President Donald Trump on Sunday called the attack on Paul Pelosi a \"terrible thing.\" But then he used it for political purposes, tying the incident to Democratic policies on crime. But DePape is a Trump supporter. Meanwhile, Don Jr. posted a thoroughly disgusting tweet about the attack. These sadistic responses to the attack on Pelosi is who MAGA Republicans are. They are openly mocking an assassination attempt on one of our Democratic leaders. What is their platform?: Let\\'s hurt the right people! There was a time when saying something so awful would put you out of political office for life. Be sure and vote. For 18 years we have been exposing Washington lies and untangling media deceit, but now Facebook is drowning us in an ocean of right wing lies. Please give a one-time or recurring donation, or buy a year\\'s subscription for an ad-free experience. Thank you. To become an ad-free subscriber please select one of the following two options. Once you click your selected plan a window will open taking you to Admiral, our ad-free partner. If you don\\'t mind the ads and would rather donate, please select one of the options below:', 'prompt': 'Who is the victim in the following text?\\nText: Kari Lake, the Trump-backed Republican nominee for governor of Arizona, is unfit for office. We\\'ve known this for a while, but she just proved that she lacks the empathy gene which should be required to hold office. On Monday, Lake made a joke about the violent assault against Speaker Nancy Pelosi\\'s husband on Friday that landed him in the hospital, where he is still recovering from brain surgery. Do you remember in 2019 when a Trump supporter said the quiet part out loud, saying, \"He\\'s (Trump) not hurting the people he needs to be hurting\"? That is who Republicans have become. Conservatives want Democrats to hurt and suffer. The GOP has become the party of victimization, so they think they\\'re owed something. \"It is not impossible to protect our kids at school. They act like it is,\" Lake said at a campaign stop along her \"Ask Me Anything\" tour. \"Nancy Pelosi — well, she\\'s got protection when she\\'s in D.C. Apparently, her house doesn\\'t have a lot of protection,\" Lake said, which brought laughter and applause from the crowd. David DePape, 42, broke into the Pelosis\\' home, but the House Speaker was out of town. According to court papers, the QAnon Trump cultist planned to take Nancy Pelosi hostage and \"break her kneecaps.\" Conservatives think that horrific incident is funny. Former President Donald Trump on Sunday called the attack on Paul Pelosi a \"terrible thing.\" But then he used it for political purposes, tying the incident to Democratic policies on crime. But DePape is a Trump supporter. Meanwhile, Don Jr. posted a thoroughly disgusting tweet about the attack. These sadistic responses to the attack on Pelosi is who MAGA Republicans are. They are openly mocking an assassination attempt on one of our Democratic leaders. What is their platform?: Let\\'s hurt the right people! There was ', 'role': 'victim', 'chunk': 0, 'chunk_length': 451}, {'_id': '64d8e926516b265872e62a24', 'title': \"Kari Lake's Joke About Pelosi Attack Draws Laughter From GOP Crowd\", 'url': 'https://crooksandliars.com/2022/10/kari-lakes-joke-about-pelosi-attack-0', 'text': 'Kari Lake, the Trump-backed Republican nominee for governor of Arizona, is unfit for office. We\\'ve known this for a while, but she just proved that she lacks the empathy gene which should be required to hold office. On Monday, Lake made a joke about the violent assault against Speaker Nancy Pelosi\\'s husband on Friday that landed him in the hospital, where he is still recovering from brain surgery. Do you remember in 2019 when a Trump supporter said the quiet part out loud, saying, \"He\\'s (Trump) not hurting the people he needs to be hurting\"? That is who Republicans have become. Conservatives want Democrats to hurt and suffer. The GOP has become the party of victimization, so they think they\\'re owed something. \"It is not impossible to protect our kids at school. They act like it is,\" Lake said at a campaign stop along her \"Ask Me Anything\" tour. \"Nancy Pelosi — well, she\\'s got protection when she\\'s in D.C. Apparently, her house doesn\\'t have a lot of protection,\" Lake said, which brought laughter and applause from the crowd. David DePape, 42, broke into the Pelosis\\' home, but the House Speaker was out of town. According to court papers, the QAnon Trump cultist planned to take Nancy Pelosi hostage and \"break her kneecaps.\" Conservatives think that horrific incident is funny. Former President Donald Trump on Sunday called the attack on Paul Pelosi a \"terrible thing.\" But then he used it for political purposes, tying the incident to Democratic policies on crime. But DePape is a Trump supporter. Meanwhile, Don Jr. posted a thoroughly disgusting tweet about the attack. These sadistic responses to the attack on Pelosi is who MAGA Republicans are. They are openly mocking an assassination attempt on one of our Democratic leaders. What is their platform?: Let\\'s hurt the right people! There was a time when saying something so awful would put you out of political office for life. Be sure and vote. For 18 years we have been exposing Washington lies and untangling media deceit, but now Facebook is drowning us in an ocean of right wing lies. Please give a one-time or recurring donation, or buy a year\\'s subscription for an ad-free experience. Thank you. To become an ad-free subscriber please select one of the following two options. Once you click your selected plan a window will open taking you to Admiral, our ad-free partner. If you don\\'t mind the ads and would rather donate, please select one of the options below:', 'prompt': \"Who is the victim in the following text?\\nText: 's hurt the right people! There was a time when saying something so awful would put you out of political office for life. Be sure and vote. For 18 years we have been exposing Washington lies and untangling media deceit, but now Facebook is drowning us in an ocean of right wing lies. Please give a one-time or recurring donation, or buy a year's subscription for an ad-free experience. Thank you. To become an ad-free subscriber please select one of the following two options. Once you click your selected plan a window will open taking you to Admiral, our ad-free partner. If you don't mind the ads and would rather donate, please select one of the options below:\", 'role': 'victim', 'chunk': 1, 'chunk_length': 166}]\n",
      "Expanded row length: 6\n"
     ]
    }
   ],
   "source": [
    "roles=['hero', 'villain', 'victim']\n",
    "col_name=\"text\"\n",
    "n_tokens=450\n",
    "overlap=10\n",
    "\n",
    "example_row = articles[42]\n",
    "example_row_exp = expandRow(example_row, tokenizer, PROMPT_TEMPLATE, col_name, n_tokens, overlap,  roles)\n",
    "\n",
    "print(\"Expanded row:\", example_row_exp)\n",
    "print(\"Expanded row length:\", len(example_row_exp))"
   ]
  },
  {
   "cell_type": "markdown",
   "metadata": {},
   "source": [
    "Process datataset using multiple proesses:"
   ]
  },
  {
   "cell_type": "code",
   "execution_count": 19,
   "metadata": {},
   "outputs": [],
   "source": [
    "num_processes = 12\n",
    "params = (tokenizer, PROMPT_TEMPLATE, col_name, n_tokens, overlap, roles,)\n",
    "dataset_hvv = processDataset(articles, num_processes, expandRow, params)\n"
   ]
  },
  {
   "cell_type": "code",
   "execution_count": 20,
   "metadata": {},
   "outputs": [
    {
     "name": "stderr",
     "output_type": "stream",
     "text": [
      "Saving the dataset (1/1 shards): 100%|██████████| 387/387 [00:00<00:00, 24104.12 examples/s]\n"
     ]
    }
   ],
   "source": [
    "dataset_hvv.save_to_disk('../data/input/articles_chunkified')"
   ]
  },
  {
   "cell_type": "markdown",
   "metadata": {},
   "source": [
    "***"
   ]
  },
  {
   "cell_type": "markdown",
   "metadata": {},
   "source": [
    "## Tokenize Dataset\n",
    "\n",
    "Tokenization refers to the process of converting input text into smaller units, such as words or subwords, which are then represented as tokens. These tokens are mapped to indices in a vocabulary that the model can understand. Hugging Face provides a variety of tokenizers, each suited for different types of models. For instance, the BertTokenizer is designed for BERT-like models and tokenizes text into wordpieces. Similarly, the GPT2Tokenizer is tailored for GPT-2-like models and tokenizes text into subwords using the Byte-Pair Encoding (BPE) algorithm. "
   ]
  },
  {
   "cell_type": "markdown",
   "metadata": {},
   "source": [
    "#### Parameters\n",
    "\n",
    "Below are descriptions of key parameters helpful for using these tokenizers:\n",
    "\n",
    "**`add_special_tokens`**:\n",
    "* Whether to add special tokens such as `[CLS]` and `[SEP]` (default is True).\n",
    "* Special tokens are necessary for some models to function properly.\n",
    "\n",
    "**`max_length`**:\n",
    "* The maximum number of tokens for the output (default varies, often 512).\n",
    "* Texts longer than this will be truncated.\n",
    "\n",
    "**`padding`**:\n",
    "* Whether to pad the output to `max_length`, and the padding strategy (default is False).\n",
    "* Options include `'max_length'`, `'longest'`, or `True` to pad to the length of the longest sequence.\n",
    "\n",
    "**`truncation`**:\n",
    "* Whether to truncate sequences to `max_length` (default is False).\n",
    "\n",
    "**`return_tensors`**:\n",
    "* The framework to use for the returned tensors, either `'pt'` for PyTorch or `'tf'` for TensorFlow (default is None, which returns plain lists).\n",
    "\n",
    "**`return_token_type_ids`**:\n",
    "* Whether to return token type IDs (default is True).\n",
    "* Necessary for some models to understand the different segments of input (e.g., question vs answer).\n",
    "\n",
    "**`return_attention_mask`**:\n",
    "* Whether to return the attention mask (default is True).\n",
    "* Attention masks tell the model which tokens to pay attention to and which to ignore.\n",
    "\n",
    "**`verbose`**:\n",
    "* Whether to log information during tokenization (default is True).\n",
    "\n",
    "**`is_split_into_words`**:\n",
    "* Whether the input is pre-tokenized into words (default is False).\n",
    "\n",
    "These parameters allow for fine-grained control over the tokenization process, ensuring the text is prepared in a way that's suitable for your model and task.\n",
    "\n",
    "For more information, consider checking the [`encode` and `encode_plus` methods documentation](https://huggingface.co/transformers/main_classes/tokenizer.html).\n"
   ]
  },
  {
   "cell_type": "code",
   "execution_count": 21,
   "metadata": {},
   "outputs": [
    {
     "name": "stderr",
     "output_type": "stream",
     "text": [
      "Map: 100%|██████████| 387/387 [00:00<00:00, 872.59 examples/s] \n"
     ]
    }
   ],
   "source": [
    "# Paramater passed to the tokenizer\n",
    "tokenizer_params = {\"truncation\": True, \"is_split_into_words\": False,\n",
    "                    \"add_special_tokens\": True, \"padding\": \"max_length\"}\n",
    "\n",
    "# Parameters passed to the tokenization function\n",
    "params = {\"tokenizer\": tokenizer, \"col_name\": \"prompt\", \"params\": tokenizer_params}\n",
    "\n",
    "# Tokenize the dataset\n",
    "tokenized_dataset = dataset_hvv.map(tokenizeInputs, fn_kwargs=params)"
   ]
  },
  {
   "cell_type": "code",
   "execution_count": 22,
   "metadata": {},
   "outputs": [
    {
     "name": "stderr",
     "output_type": "stream",
     "text": [
      "Saving the dataset (1/1 shards): 100%|██████████| 387/387 [00:00<00:00, 36354.58 examples/s]\n"
     ]
    }
   ],
   "source": [
    "tokenized_dataset.save_to_disk('../data/input/articles_tokenized')"
   ]
  },
  {
   "cell_type": "markdown",
   "metadata": {},
   "source": [
    "***"
   ]
  },
  {
   "cell_type": "markdown",
   "metadata": {},
   "source": [
    "## Make Predictions"
   ]
  },
  {
   "cell_type": "code",
   "execution_count": 23,
   "metadata": {},
   "outputs": [],
   "source": [
    "from torch.utils.data import DataLoader, TensorDataset, SequentialSampler\n",
    "from datasets import Dataset, load_from_disk, concatenate_datasets\n",
    "from transformers import AutoTokenizer, AutoModelForSeq2SeqLM\n",
    "from tqdm import tqdm\n",
    "import threading\n",
    "import torch\n",
    "import pickle\n",
    "import time\n",
    "import copy"
   ]
  },
  {
   "cell_type": "code",
   "execution_count": 24,
   "metadata": {},
   "outputs": [
    {
     "name": "stdout",
     "output_type": "stream",
     "text": [
      "Dataset length: 387\n"
     ]
    }
   ],
   "source": [
    "dataset = load_from_disk('../data/input/articles_tokenized')\n",
    "print(\"Dataset length:\", len(dataset))"
   ]
  },
  {
   "cell_type": "markdown",
   "metadata": {},
   "source": [
    "### Split Dataset"
   ]
  },
  {
   "cell_type": "markdown",
   "metadata": {},
   "source": [
    "List infos about the available GPUs:"
   ]
  },
  {
   "cell_type": "code",
   "execution_count": 25,
   "metadata": {},
   "outputs": [
    {
     "name": "stdout",
     "output_type": "stream",
     "text": [
      "GPU 0:\n",
      "  Name: Tesla P100-PCIE-16GB\n",
      "  Memory: 16276.00 MiB\n",
      "  Compute Capability: 6.0\n",
      "\n",
      "GPU 1:\n",
      "  Name: Tesla P100-PCIE-16GB\n",
      "  Memory: 16276.00 MiB\n",
      "  Compute Capability: 6.0\n",
      "\n"
     ]
    }
   ],
   "source": [
    "gpu_info_list = listAvailableGPUs()"
   ]
  },
  {
   "cell_type": "markdown",
   "metadata": {},
   "source": [
    "Determine the number of available GPUs:"
   ]
  },
  {
   "cell_type": "code",
   "execution_count": 26,
   "metadata": {},
   "outputs": [
    {
     "name": "stdout",
     "output_type": "stream",
     "text": [
      "Number of available GPUs: 2\n"
     ]
    }
   ],
   "source": [
    "num_gpus = torch.cuda.device_count()\n",
    "print(f'Number of available GPUs: {num_gpus}')\n"
   ]
  },
  {
   "cell_type": "code",
   "execution_count": 27,
   "metadata": {},
   "outputs": [
    {
     "name": "stdout",
     "output_type": "stream",
     "text": [
      "Number of chunks: 2\n",
      "Chunk 0 length: 194\n",
      "Chunk 1 length: 193\n"
     ]
    }
   ],
   "source": [
    "# Split the dataset into chunks (one for each GPU)\n",
    "chunks = splitDataset(dataset, num_chunks=num_gpus)\n",
    "\n",
    "# Print the length of each chunk\n",
    "print(\"Number of chunks:\", len(chunks))\n",
    "for i, chunk in enumerate(chunks):\n",
    "    print(f\"Chunk {i} length:\", len(chunk))\n"
   ]
  },
  {
   "cell_type": "markdown",
   "metadata": {},
   "source": [
    "### Process Articles"
   ]
  },
  {
   "cell_type": "markdown",
   "metadata": {},
   "source": [
    "Check GPU utilization:"
   ]
  },
  {
   "cell_type": "code",
   "execution_count": 28,
   "metadata": {},
   "outputs": [
    {
     "name": "stdout",
     "output_type": "stream",
     "text": [
      "Sat Oct 21 15:52:17 2023       \n",
      "+-----------------------------------------------------------------------------+\n",
      "| NVIDIA-SMI 525.125.06   Driver Version: 525.125.06   CUDA Version: 12.0     |\n",
      "|-------------------------------+----------------------+----------------------+\n",
      "| GPU  Name        Persistence-M| Bus-Id        Disp.A | Volatile Uncorr. ECC |\n",
      "| Fan  Temp  Perf  Pwr:Usage/Cap|         Memory-Usage | GPU-Util  Compute M. |\n",
      "|                               |                      |               MIG M. |\n",
      "|===============================+======================+======================|\n",
      "|   0  Tesla P100-PCIE...  Off  | 00000000:17:00.0 Off |                    0 |\n",
      "| N/A   46C    P0    28W / 250W |      2MiB / 16384MiB |      0%      Default |\n",
      "|                               |                      |                  N/A |\n",
      "+-------------------------------+----------------------+----------------------+\n",
      "|   1  Tesla P100-PCIE...  Off  | 00000000:65:00.0 Off |                    0 |\n",
      "| N/A   48C    P0    30W / 250W |      2MiB / 16384MiB |      0%      Default |\n",
      "|                               |                      |                  N/A |\n",
      "+-------------------------------+----------------------+----------------------+\n",
      "                                                                               \n",
      "+-----------------------------------------------------------------------------+\n",
      "| Processes:                                                                  |\n",
      "|  GPU   GI   CI        PID   Type   Process name                  GPU Memory |\n",
      "|        ID   ID                                                   Usage      |\n",
      "|=============================================================================|\n",
      "|  No running processes found                                                 |\n",
      "+-----------------------------------------------------------------------------+\n"
     ]
    }
   ],
   "source": [
    "!nvidia-smi"
   ]
  },
  {
   "cell_type": "markdown",
   "metadata": {},
   "source": [
    "#### Parameters for Text Generation\n",
    "\n",
    "Each parameter influences the text generation in a specific way. Below are the parameters along with a brief explanation:\n",
    "\n",
    "**`max_length`**:\n",
    "* Sets the maximum number of tokens in the generated text (default is 50).\n",
    "* Generation stops if the maximum length is reached before the model produces an EOS token.\n",
    "* A higher `max_length` allows for longer generated texts but may increase the time and computational resources required.\n",
    "\n",
    "**`min_length`**:\n",
    "* Sets the minimum number of tokens in the generated text (default is 10).\n",
    "* Generation continues until this minimum length is reached even if an EOS token is produced.\n",
    "\n",
    "**`num_beams`**:\n",
    "* In beam search, sets the number of \"beams\" or hypotheses to keep at each step (default is 4).\n",
    "* A higher number of beams increases the chances of finding a good output but also increases the computational cost.\n",
    "\n",
    "**`num_return_sequences`**:\n",
    "* Specifies the number of independently computed sequences to return (default is 3).\n",
    "* When using sampling, multiple different sequences are generated independently from each other.\n",
    "\n",
    "**`early_stopping`**:\n",
    "* Stops generation if the model produces the EOS (End Of Sentence) token, even if the predefined maximum length is not reached (default is True).\n",
    "* Useful when an EOS token signifies the logical end of a text (often represented as `</s>`).\n",
    "\n",
    "**`do_sample`**:\n",
    "* Tokens are selected probabilistically based on their likelihood scores (default is True).\n",
    "* Introduces randomness into the generation process for diverse outputs.\n",
    "* The level of randomness is controlled by the 'temperature' parameter.\n",
    "\n",
    "**`temperature`**:\n",
    "* Adjusts the probability distribution used for sampling the next token (default is 0.7).\n",
    "* Higher values make the generation more random, while lower values make it more deterministic.\n",
    "\n",
    "**`top_k`**:\n",
    "* Limits the number of tokens considered for sampling at each step to the top K most likely tokens (default is 50).\n",
    "* Can make the generation process faster and more focused.\n",
    "\n",
    "**`top_p`**:\n",
    "* Also known as nucleus sampling, sets a cumulative probability threshold (default is 0.95).\n",
    "* Tokens are sampled only from the smallest set whose cumulative probability exceeds this threshold.\n",
    "\n",
    "**`repetition_penalty`**:\n",
    "* Discourages the model from repeating the same token by modifying the token's score (default is 1.5).\n",
    "* Values greater than 1.0 penalize repetitions, and values less than 1.0 encourage repetitions.\n"
   ]
  },
  {
   "cell_type": "code",
   "execution_count": 29,
   "metadata": {},
   "outputs": [],
   "source": [
    "def generatePredictions(process_id, dataset, device):\n",
    "    \"\"\"Generates predictions for a given dataset.\"\"\"\n",
    "\n",
    "    # Print some information about the process\n",
    "    print(f\"--------- Process {process_id:02} ---------\")\n",
    "    print(f\"Dataset length: {len(dataset)}\")\n",
    "    print(f\"Device: {device}\")\n",
    "    print(f\"------------------------------\")\n",
    "\n",
    "    # Load tokenizer and model for generation\n",
    "    tokenizer = AutoTokenizer.from_pretrained(\"google/flan-t5-base\")\n",
    "    model = AutoModelForSeq2SeqLM.from_pretrained(\"google/flan-t5-base\")\n",
    "    model.eval()\n",
    "    model.to(device)\n",
    "\n",
    "    # Copy the dataset to avoid modifying the original\n",
    "    dataset_full = copy.copy(dataset)\n",
    "    dataset.set_format(type='torch', columns=[\n",
    "        'input_ids', 'attention_mask'])\n",
    "\n",
    "    # Create dataloader without explicit sampler for sequential loading\n",
    "    BATCH_SIZE = 192\n",
    "    dataloader = DataLoader(\n",
    "        dataset, batch_size=BATCH_SIZE, shuffle=False)\n",
    "\n",
    "    # Set generation parameters\n",
    "    params = {'do_sample': True,\n",
    "              'early_stopping': False,\n",
    "              # 'max_length': 100,\n",
    "              # 'min_length': 1,\n",
    "              # 'num_beam_groups': 2,\n",
    "              # 'num_beams': 2,\n",
    "              # 'max_tokens': 32,\n",
    "              # 'min_tokens': 1,\n",
    "              # 'output_scores': False,\n",
    "              'repetition_penalty': 1.0,\n",
    "              # 'return_dict_in_generate': False,\n",
    "              'temperature': 1.0,\n",
    "              'top_k': 50,\n",
    "              'top_p': 1.0, }\n",
    "\n",
    "    # Make predictions\n",
    "    predictions = []\n",
    "\n",
    "    with torch.no_grad():\n",
    "        for batch in tqdm(dataloader, desc=\"Batches\"):\n",
    "            batch = {k: v.to(device) for k, v in batch.items()}\n",
    "\n",
    "            # Generate outputs\n",
    "            batch_outputs = model.generate(\n",
    "                input_ids=batch['input_ids'], attention_mask=batch['attention_mask'], **params, max_new_tokens=100)\n",
    "\n",
    "            # Decode and store predictions\n",
    "            decoded_outputs = [tokenizer.decode(\n",
    "                output_id, skip_special_tokens=True) for output_id in batch_outputs]\n",
    "            predictions.extend(decoded_outputs)\n",
    "\n",
    "    # Ensure the new column has the same number of items as the dataset\n",
    "    assert len(dataset_full) == len(\n",
    "        predictions), \"The length of new_column_values must match the dataset's length\"\n",
    "\n",
    "    # Add new column to the dataset and save it\n",
    "    dataset_full = dataset_full.add_column('answer', predictions)\n",
    "    dataset_full.save_to_disk('../data/output/articles_processed_' + str(id))\n",
    "\n",
    "    return dataset_full\n",
    "    "
   ]
  },
  {
   "cell_type": "markdown",
   "metadata": {},
   "source": [
    "Start one thread per GPU before collecting and merging the results:"
   ]
  },
  {
   "cell_type": "code",
   "execution_count": 30,
   "metadata": {},
   "outputs": [
    {
     "name": "stdout",
     "output_type": "stream",
     "text": [
      "--------- Process 00 ------------------ Process 01 ---------\n",
      "Dataset length: 193\n",
      "Device: cuda:1\n",
      "------------------------------\n",
      "\n",
      "Dataset length: 194\n",
      "Device: cuda:0\n",
      "------------------------------\n"
     ]
    },
    {
     "name": "stderr",
     "output_type": "stream",
     "text": [
      "Batches: 100%|██████████| 2/2 [00:09<00:00,  4.56s/it]\n",
      "Saving the dataset (1/1 shards): 100%|██████████| 193/193 [00:00<00:00, 20484.87 examples/s]\n",
      "Batches: 100%|██████████| 2/2 [00:08<00:00,  4.17s/it]\n",
      "Saving the dataset (1/1 shards): 100%|██████████| 194/194 [00:00<00:00, 18737.08 examples/s]\n"
     ]
    },
    {
     "name": "stdout",
     "output_type": "stream",
     "text": [
      "Number of returned datasets: 2\n"
     ]
    },
    {
     "name": "stderr",
     "output_type": "stream",
     "text": [
      "Saving the dataset (1/1 shards): 100%|██████████| 387/387 [00:00<00:00, 9718.80 examples/s] "
     ]
    },
    {
     "name": "stdout",
     "output_type": "stream",
     "text": [
      "Processing on both GPUs completed!\n",
      "Results: 387\n"
     ]
    },
    {
     "name": "stderr",
     "output_type": "stream",
     "text": [
      "\n"
     ]
    }
   ],
   "source": [
    "# Assuming datasets and devices are lists containing the datasets and device names\n",
    "datasets = chunks  # and so on...\n",
    "devices = ['cuda:0', 'cuda:1']  # and so on...\n",
    "\n",
    "# Calls the function to start the threads\n",
    "returned_datasets = startThreads(len(datasets), datasets, devices, generatePredictions)\n",
    "print(\"Number of returned datasets:\", len(returned_datasets))\n",
    "\n",
    "# Concatenate the returned datasets\n",
    "merged_dataset = concatenate_datasets(returned_datasets)\n",
    "merged_dataset.save_to_disk('../data/output/articles_processed')\n",
    "\n",
    "# Print the length of the merged dataset\n",
    "print(\"Processing on both GPUs completed!\")\n",
    "print(\"Results:\", len(merged_dataset))"
   ]
  },
  {
   "cell_type": "markdown",
   "metadata": {},
   "source": [
    "***"
   ]
  },
  {
   "cell_type": "markdown",
   "metadata": {},
   "source": [
    "## Upload Results"
   ]
  },
  {
   "cell_type": "code",
   "execution_count": 31,
   "metadata": {},
   "outputs": [],
   "source": [
    "from utils.preprocessing import *\n",
    "from utils.database import *\n",
    "from datasets import load_from_disk\n",
    "from tqdm import tqdm"
   ]
  },
  {
   "cell_type": "code",
   "execution_count": 32,
   "metadata": {},
   "outputs": [],
   "source": [
    "dataset = load_from_disk('../data/output/articles_processed')"
   ]
  },
  {
   "cell_type": "code",
   "execution_count": 33,
   "metadata": {},
   "outputs": [
    {
     "name": "stdout",
     "output_type": "stream",
     "text": [
      "Role: hero\n",
      "Answer: \"Investigators in the Georgia criminal probe have long suspected the breach was not an organic effort [...]\n"
     ]
    }
   ],
   "source": [
    "# Exmample amswer \n",
    "answer = dataset[0].get(\"answer\")\n",
    "role = dataset[0].get(\"role\")\n",
    "print(\"Role:\", role)\n",
    "print(\"Answer:\", answer)   "
   ]
  },
  {
   "cell_type": "code",
   "execution_count": 34,
   "metadata": {},
   "outputs": [
    {
     "name": "stderr",
     "output_type": "stream",
     "text": [
      "Map:   0%|          | 0/387 [00:00<?, ? examples/s]"
     ]
    },
    {
     "name": "stderr",
     "output_type": "stream",
     "text": [
      "Map: 100%|██████████| 387/387 [00:00<00:00, 2910.98 examples/s]\n"
     ]
    }
   ],
   "source": [
    "dataset = dataset.map(lambda row: {'sort_key':\n",
    "                                   str(row['_id']) + str(row['role']) +\n",
    "                                   str(row['chunk'])\n",
    "                                   })\n",
    "sorted_dataset = dataset.sort('sort_key')\n",
    "sorted_dataset = sorted_dataset.remove_columns('sort_key')\n"
   ]
  },
  {
   "cell_type": "markdown",
   "metadata": {},
   "source": [
    "### Connect to Database"
   ]
  },
  {
   "cell_type": "code",
   "execution_count": 35,
   "metadata": {},
   "outputs": [],
   "source": [
    "_, db = getConnection(use_dotenv=True)"
   ]
  },
  {
   "cell_type": "markdown",
   "metadata": {},
   "source": [
    "### Update Documents in Database"
   ]
  },
  {
   "cell_type": "code",
   "execution_count": 36,
   "metadata": {},
   "outputs": [],
   "source": [
    "def processResults(dataset):\n",
    "    # Initial processing results\n",
    "    processing_result = {\"hero\": [], \"villain\": [], \"victim\": []}\n",
    "    object_id_prev = None\n",
    "\n",
    "    for item in dataset:\n",
    "        object_id = item['_id']\n",
    "        role = item['role']\n",
    "        answer = item['answer']\n",
    "\n",
    "        # If the object_id changes, reset the processing_result\n",
    "        if object_id_prev is not None and object_id_prev != object_id:\n",
    "            yield object_id_prev, processing_result\n",
    "            processing_result = {\"hero\": [], \"villain\": [], \"victim\": []}\n",
    "\n",
    "        processing_result[role].append(answer)\n",
    "        object_id_prev = object_id\n",
    "\n",
    "    # Yield the final processing_result if any\n",
    "    if processing_result[\"hero\"] or processing_result[\"villain\"] or processing_result[\"victim\"]:\n",
    "        yield object_id_prev, processing_result"
   ]
  },
  {
   "cell_type": "code",
   "execution_count": 37,
   "metadata": {},
   "outputs": [
    {
     "name": "stderr",
     "output_type": "stream",
     "text": [
      "Uploading results: 51it [00:00, 164.61it/s]                        \n"
     ]
    }
   ],
   "source": [
    "# Assuming `ds` is your dataset object\n",
    "unique_ids = set(dataset[\"_id\"])\n",
    "\n",
    "# Count of unique ids\n",
    "count_unique_ids = len(unique_ids)\n",
    "# print(count_unique_ids)‚\n",
    "\n",
    "for object_id, result in tqdm(processResults(dataset), total=count_unique_ids, desc=\"Uploading results\"):\n",
    "    pass\n",
    "    #updateProcessingResults(db, object_id, {\"processing_result\": result})"
   ]
  },
  {
   "cell_type": "code",
   "execution_count": null,
   "metadata": {},
   "outputs": [],
   "source": []
  }
 ],
 "metadata": {
  "kernelspec": {
   "display_name": "mediacloud",
   "language": "python",
   "name": "python3"
  },
  "language_info": {
   "codemirror_mode": {
    "name": "ipython",
    "version": 3
   },
   "file_extension": ".py",
   "mimetype": "text/x-python",
   "name": "python",
   "nbconvert_exporter": "python",
   "pygments_lexer": "ipython3",
   "version": "3.10.8"
  },
  "orig_nbformat": 4
 },
 "nbformat": 4,
 "nbformat_minor": 2
}
