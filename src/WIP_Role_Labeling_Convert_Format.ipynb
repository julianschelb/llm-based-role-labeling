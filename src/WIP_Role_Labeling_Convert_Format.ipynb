{
 "cells": [
  {
   "cell_type": "markdown",
   "metadata": {},
   "source": [
    "# Stage 1: Role Labeling - Convert Format"
   ]
  },
  {
   "cell_type": "code",
   "execution_count": 30,
   "metadata": {},
   "outputs": [],
   "source": [
    "from transformers import AutoTokenizer, AutoModelForSeq2SeqLM\n",
    "from huggingface_hub import InferenceClient\n",
    "from transformers import BertTokenizer\n",
    "from utils.preprocessing import *\n",
    "from utils.accelerators import *\n",
    "from utils.multithreading import *\n",
    "from utils.database import *\n",
    "from utils.model import *\n",
    "from utils.files import *\n",
    "from datasets import Dataset\n",
    "from rouge import Rouge\n",
    "from tqdm import tqdm\n",
    "import statistics\n",
    "import hashlib\n",
    "import random\n",
    "import openai\n",
    "import time\n",
    "import math\n",
    "import re"
   ]
  },
  {
   "cell_type": "markdown",
   "metadata": {},
   "source": [
    "### Connect to Database"
   ]
  },
  {
   "cell_type": "markdown",
   "metadata": {},
   "source": [
    "Credentials are sourced from the `.env` file."
   ]
  },
  {
   "cell_type": "code",
   "execution_count": 31,
   "metadata": {},
   "outputs": [],
   "source": [
    "_, db = getConnection(use_dotenv=True)"
   ]
  },
  {
   "cell_type": "markdown",
   "metadata": {},
   "source": [
    "**Fetch Documents**"
   ]
  },
  {
   "cell_type": "code",
   "execution_count": 32,
   "metadata": {},
   "outputs": [],
   "source": [
    "def fetchArticleTexts(db, limit: int = 0, skip: int = 0, fields: dict = {},  query: dict = {}, collection=\"articles.sampled.triplets\"):\n",
    "    \"\"\"Returns texts extracted from news articles\"\"\"\n",
    "    tasks = db[collection].find(query, fields).limit(limit).skip(skip)\n",
    "    return list(tasks)"
   ]
  },
  {
   "cell_type": "code",
   "execution_count": 33,
   "metadata": {},
   "outputs": [],
   "source": [
    "articles = fetchArticleTexts(db, limit=0, fields={\"_id\": 1, \"triplets\": 1})"
   ]
  },
  {
   "cell_type": "code",
   "execution_count": 34,
   "metadata": {},
   "outputs": [
    {
     "data": {
      "text/plain": [
       "{'_id': ObjectId('64d8eb3a516b265872293a5c'),\n",
       " 'triplets': [{'chunk_id': 0,\n",
       "   'chunk': 'January 14, 2016\\nEntertainment, Movies The Revenant led this morning’s 2016 Oscar nominations with 12 nods. At age 25, Jennifer Lawrence became the youngest to win a fourth nomination. From the Washington Post: The nominations for the 88th Academy Awards were announced Thursday morning. In acting categories, many of the same stars who were honored during the Golden Globes on Sunday were nominated, including Brie Larson for “Room,” Matt Damon for “The Martian” and, of course, Leonardo DiCaprio, for “The Revenant.” There has been particular interest in that last potential nominee, given that DiCaprio has never won an Oscar and that movie was so grueling to shoot. Best picture\\n“Spotlight”\\n“The Revenant”\\n“Mad Max: Fury Road”\\n“The Big Short”\\n“Bridge of Spies”\\n“Brooklyn”\\n“Room”\\n“The Martian” Actor in a leading role\\nLeonardo DiCaprio, “The Revenant”\\nMatt Damon, “The Martian”\\nMichael Fassbender, “Steve Jobs”\\nBryan Cranston, “Trumbo”\\nEddie Redmayne, “The Danish Girl” Actress in a leading role\\nBrie Larson, “Room”\\nSaoirse Ronan, “Brooklyn”\\nCate Blanchett, “Carol”\\nJennifer Lawrence, “Joy”\\nCharlotte Rampling, “45 Years” Best director\\nAlejandro Iñárritu, “The Revenant”\\nGeorge Miller, “Mad Max: Fury Road”\\nTom McCarthy, “Spotlight”\\nAdam McKay, “The Big Short”\\nLenny Abrahamson, “Room” Actress in a supporting role\\nRooney Mara, “Carol”\\nJennifer Jason Leigh, “The Hateful Eight”\\nAlicia Vikander, “The Danish Girl”\\nKate Winslet, “Steve Jobs”\\nRachel McAdams, “Spotlight” Actor in a supporting role\\nSylvester Stallone, “Creed”\\nMark Rylance, “Bridge of Spies”\\nMark Ruffalo, “Spotlight”\\nChristian Bale, “The Big Short”\\nTom Hardy, “The Revenant” Best foreign language film\\n“Son of Saul”\\n“Mustang”\\n“A War”\\n“Embrace of the Serpent”\\n“Theeb” Best animated feature film\\n“Inside Out”\\n“When Marnie Was There”\\n“Anomalisa”\\n“Boy and the World”\\n“Shaun the Sheep Movie” Best original score\\n“The Hateful Eight”\\n“Sicario”\\n“Star Wars: The Force Awakens”\\n“Carol”\\n“Bridge of Spies” Tags Hollywood Jennifer Lawrence movies Oscars Sign up for the JMG Newsletter! Email address: ',\n",
       "   'answers': [{'index': 0,\n",
       "     'text': '\\n{hero: \"Leonardo DiCaprio\", villain: \"None\", victim: \"None\"}',\n",
       "     'logprobs': None,\n",
       "     'finish_reason': 'stop',\n",
       "     'triplet': {'hero': 'Leonardo DiCaprio',\n",
       "      'villain': 'None',\n",
       "      'victim': 'None'}},\n",
       "    {'index': 1,\n",
       "     'text': '\\n{hero: \"Leonardo DiCaprio\", villain: \"None\", victim: \"None\"}',\n",
       "     'logprobs': None,\n",
       "     'finish_reason': 'stop',\n",
       "     'triplet': {'hero': 'Leonardo DiCaprio',\n",
       "      'villain': 'None',\n",
       "      'victim': 'None'}},\n",
       "    {'index': 2,\n",
       "     'text': '\\n{hero: \"Leonardo DiCaprio\", villain: \"None\", victim: \"None\"}',\n",
       "     'logprobs': None,\n",
       "     'finish_reason': 'stop',\n",
       "     'triplet': {'hero': 'Leonardo DiCaprio',\n",
       "      'villain': 'None',\n",
       "      'victim': 'None'}}]}]}"
      ]
     },
     "execution_count": 34,
     "metadata": {},
     "output_type": "execute_result"
    }
   ],
   "source": [
    "articles[0]"
   ]
  },
  {
   "cell_type": "markdown",
   "metadata": {},
   "source": [
    "**Source format:**\n",
    "\n",
    "```json\n",
    "\"triplets\": [{\"chunk_id\": 0,\n",
    "   \"chunk\": \"January 14, 2016\\nEntertainment, Movies The Revenant led this morning’s 2016 Oscar nominations with 12 nods. At age 25, Jennifer Lawrence became the youngest to win a fourth nomination. From the Washington Post: The nominations for the 88th Academy Awards were announced Thursday morning. In acting categories, many of the same stars who were honored during the Golden Globes on Sunday were nominated, including Brie Larson for “Room,” Matt Damon for “The Martian” and, of course, Leonardo DiCaprio, for “The Revenant.” \",\n",
    "   \"answers\": [{\"index\": 0,\n",
    "     \"text\": \"\\n{hero: \"Leonardo DiCaprio\", villain: \"None\", victim: \"None\"}\",\n",
    "     \"logprobs\": None,\n",
    "     \"finish_reason\": \"stop\",\n",
    "     \"triplet\": {\"hero\": \"Leonardo DiCaprio\",\n",
    "      \"villain\": \"None\",\n",
    "      \"victim\": \"None\"}},\n",
    "    {\"index\": 1,\n",
    "     \"text\": \"\\n{hero: \"Leonardo DiCaprio\", villain: \"None\", victim: \"None\"}\",\n",
    "     \"logprobs\": None,\n",
    "     \"finish_reason\": \"stop\",\n",
    "     \"triplet\": {\"hero\": \"Leonardo DiCaprio\",\n",
    "      \"villain\": \"None\",\n",
    "      \"victim\": \"None\"}},\n",
    "    {\"index\": 2,\n",
    "     \"text\": \"\\n{hero: \"Leonardo DiCaprio\", villain: \"None\", victim: \"None\"}\",\n",
    "     \"logprobs\": None,\n",
    "     \"finish_reason\": \"stop\",\n",
    "     \"triplet\": {\"hero\": \"Leonardo DiCaprio\",\n",
    "      \"villain\": \"None\",\n",
    "      \"victim\": \"None\"}}]}]\n",
    "```\n",
    "\n",
    "***\n",
    "\n",
    "**Target format:**\n",
    "\n",
    "```json\n",
    " \"processing_result\": {\n",
    "    \"hero\": [\n",
    "      \"Leonardo DiCaprio\",\n",
    "      \"Jennifer Lawrence\"\n",
    "    ],\n",
    "    \"villain\": [\n",
    "      \"The Revenant\",\n",
    "      \"Jason Priestly\"\n",
    "    ],\n",
    "    \"victim\": [\n",
    "      \"Jennifer Lawrence\",\n",
    "      \"Jennifer Lawrence\"\n",
    "    ]\n",
    "  },\n",
    "```"
   ]
  },
  {
   "cell_type": "code",
   "execution_count": 41,
   "metadata": {},
   "outputs": [],
   "source": [
    "article = articles[0]\n",
    "\n",
    "def convertToDict(article):\n",
    "    \"\"\"Converts article to a dictionary\"\"\"\n",
    "\n",
    "    hero, villain, victim = [], [], []\n",
    "\n",
    "    for chunk in article.get(\"triplets\",[]):\n",
    "        for answer in chunk.get(\"answers\",[]):\n",
    "            triplet = answer.get(\"triplet\", [])\n",
    "            hero.append(triplet.get(\"hero\", \"\"))\n",
    "            villain.append(triplet.get(\"villain\", \"\"))\n",
    "            victim.append(triplet.get(\"victim\", \"\"))\n",
    "            #break # For only a single answer\n",
    "        #break # For only a single chunk\n",
    "\n",
    "    return {\"hero\": hero, \"villain\": villain, \"victim\": victim}"
   ]
  },
  {
   "cell_type": "markdown",
   "metadata": {},
   "source": [
    "**Convert Format and update articles:**"
   ]
  },
  {
   "cell_type": "code",
   "execution_count": 42,
   "metadata": {},
   "outputs": [],
   "source": [
    "def updateArticle(db, id: str, values: dict = {}, collection=\"articles.sampled.triplets\"):\n",
    "    \"Updates scraping task in database\"\n",
    "    filter = {\"_id\": ObjectId(id)}\n",
    "    values = {\"$set\": {**values}}\n",
    "    r = db[collection].update_one(filter, values)\n",
    "    return r"
   ]
  },
  {
   "cell_type": "code",
   "execution_count": 43,
   "metadata": {},
   "outputs": [
    {
     "name": "stderr",
     "output_type": "stream",
     "text": [
      "100%|██████████| 227094/227094 [04:55<00:00, 767.63it/s] \n"
     ]
    }
   ],
   "source": [
    "for article in tqdm(articles):\n",
    "    values = {\"processing_result\" : convertToDict(article)}\n",
    "    updateArticle(db, article[\"_id\"], values)"
   ]
  },
  {
   "cell_type": "code",
   "execution_count": null,
   "metadata": {},
   "outputs": [],
   "source": []
  }
 ],
 "metadata": {
  "kernelspec": {
   "display_name": "mediacloud",
   "language": "python",
   "name": "python3"
  },
  "language_info": {
   "codemirror_mode": {
    "name": "ipython",
    "version": 3
   },
   "file_extension": ".py",
   "mimetype": "text/x-python",
   "name": "python",
   "nbconvert_exporter": "python",
   "pygments_lexer": "ipython3",
   "version": "3.10.8"
  },
  "orig_nbformat": 4
 },
 "nbformat": 4,
 "nbformat_minor": 2
}
