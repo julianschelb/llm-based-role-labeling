{
 "cells": [
  {
   "cell_type": "markdown",
   "metadata": {},
   "source": [
    "# Stage 3: Entity Embeddings"
   ]
  },
  {
   "cell_type": "markdown",
   "metadata": {},
   "source": [
    "We obtain embeddings for the disambiguated entities using the encoder-based \\texttt{RoBERTa-BASE} model. We used the same prompt template as in the disambiguation phase to condition the embeddings on the context of the article text where the entities originally appeared, but without the special tokens marking the entity. The embeddings of the tokens corresponding to the entity were then averaged to produce the final embedding. We use the following prompt template:\n",
    "\n",
    "```text\n",
    "Discussing ([HERO], [VILLAIN] or [VICTIM]): [TEXT]. \n",
    "```"
   ]
  },
  {
   "cell_type": "markdown",
   "metadata": {},
   "source": [
    "## Fetch Articles"
   ]
  },
  {
   "cell_type": "code",
   "execution_count": 32,
   "metadata": {},
   "outputs": [],
   "source": [
    "from utils.preprocessing import *\n",
    "from utils.accelerators import *\n",
    "from utils.multithreading import *\n",
    "from utils.database import *\n",
    "from utils.files import *\n",
    "from datasets import Dataset\n",
    "import random"
   ]
  },
  {
   "cell_type": "markdown",
   "metadata": {},
   "source": [
    "### Connect to Database"
   ]
  },
  {
   "cell_type": "markdown",
   "metadata": {},
   "source": [
    "Credentials are sourced from the `.env` file."
   ]
  },
  {
   "cell_type": "code",
   "execution_count": 33,
   "metadata": {},
   "outputs": [],
   "source": [
    "_, db = getConnection(use_dotenv=True)"
   ]
  },
  {
   "cell_type": "markdown",
   "metadata": {},
   "source": [
    "### Query Database"
   ]
  },
  {
   "cell_type": "markdown",
   "metadata": {},
   "source": [
    "Fetches a limited number of articles from the database that haven't been processed yet, \n",
    "returning specified fields like url, title, and parsing result text."
   ]
  },
  {
   "cell_type": "code",
   "execution_count": 34,
   "metadata": {},
   "outputs": [],
   "source": [
    "collection = \"v2_sampled_articles\"\n",
    "fields = {\"url\": 1, \"title\": 1, \"parsing_result.text\": 1, \"denoising_result\": 1}\n",
    "query = {\n",
    "    \"denoising_result\": {\"$exists\": True},\n",
    "    \"parsing_result.text_length\": {\"$lt\": 10000},\n",
    "    #\"embedding_result\": {\"$exists\": False},\n",
    "    #\"initial_subsample\": False\n",
    "}\n",
    "articles = fetchArticleTexts(db, 50, 0, fields, query, collection)"
   ]
  },
  {
   "cell_type": "markdown",
   "metadata": {},
   "source": [
    "Example article:"
   ]
  },
  {
   "cell_type": "code",
   "execution_count": 35,
   "metadata": {},
   "outputs": [
    {
     "name": "stdout",
     "output_type": "stream",
     "text": [
      "Title: Sarah Palin: Obama Is “Bending Over” For Iran\n",
      "Text: January 14, 2016\n",
      "Crackpots, Teabagistan “Here we go again, coddling the enemy and implementing rules of engagement that prohibit our military from doing its job. Iran captures our warriors before forcing the U.S. to apologize for the ENEMY’S bullying and endangerment, all to send a (false) message that America is now so weak we’ve fallen insurmountably far under the enemy. As Sen. McCain just said on Fox News, Obama spokesman Josh Ernest is an ‘idiot’ and knows not of what he speaks as actual APPRECIATION is expressed by the Leftist White House for Iran’s combatant actions. “To praise the enemy for humiliating our military should make all reasonable, pro-‘Peace through Strength’ Americans agree with what Dean Cain said on Fox this morning: ‘This makes me sick to my stomach.’ Then went on to suggest reasons many of America’s finest are leaving the military. No question, they’re leaving due to the Left’s pussy-footing around per the tone set by an extremely weak President who doesn’t believe we face existential threats. I’ll continue to ask: if democrats still praise Obama’s capitulation and bending over for Iran, does it not make you wonder whose side are they on?” – Sarah Palin, writing this afternoon on Facebook. Tags Barack Obama crackpots Iran loony tunes Sarah Palin Teabagistan Sign up for the JMG Newsletter! Email address: \n",
      "Denoising Result: {'hero': [], 'villain': ['Barack Obama'], 'victim': ['Iran']}\n"
     ]
    }
   ],
   "source": [
    "example_article = random.choice(articles)\n",
    "title = example_article.get(\"title\")\n",
    "text = example_article.get(\"parsing_result\").get(\"text\")\n",
    "print(f\"Title: {title}\\nText: {text}\")\n",
    "print(f\"Denoising Result: {example_article.get('denoising_result')}\")\n"
   ]
  },
  {
   "cell_type": "markdown",
   "metadata": {},
   "source": [
    "\n",
    "Processes the 'parsing_result' of each article to clean the text, and filters out articles \n",
    "that lack a 'title' or 'parsing_result'.\n"
   ]
  },
  {
   "cell_type": "code",
   "execution_count": 36,
   "metadata": {},
   "outputs": [
    {
     "name": "stderr",
     "output_type": "stream",
     "text": [
      "Cleaning articles: 100%|██████████| 50/50 [00:00<00:00, 1701.12it/s]\n"
     ]
    }
   ],
   "source": [
    "# Basic text cleaning, e.g. removing newlines, tabs, etc.\n",
    "articles = cleanArticles(articles)"
   ]
  },
  {
   "cell_type": "code",
   "execution_count": 37,
   "metadata": {},
   "outputs": [
    {
     "name": "stdout",
     "output_type": "stream",
     "text": [
      "Number of articles: 50\n"
     ]
    }
   ],
   "source": [
    "# Filter out articles with no title or no parsing result \n",
    "articles = [article for article in articles if article.get(\n",
    "    \"title\", \"\") and article.get(\"parsing_result\", \"\")]\n",
    "\n",
    "print(\"Number of articles:\", len(articles))"
   ]
  },
  {
   "cell_type": "markdown",
   "metadata": {},
   "source": [
    "### Export as JSON"
   ]
  },
  {
   "cell_type": "markdown",
   "metadata": {},
   "source": [
    "Saves the given data to a JSON file for optional visual inspection."
   ]
  },
  {
   "cell_type": "code",
   "execution_count": 38,
   "metadata": {},
   "outputs": [],
   "source": [
    "exportAsJSON(\"../data/input/articles.json\",  articles)"
   ]
  },
  {
   "cell_type": "markdown",
   "metadata": {},
   "source": [
    "### Convert to HF Dataset"
   ]
  },
  {
   "cell_type": "markdown",
   "metadata": {},
   "source": [
    "Convert article IDs to strings and transform a list of articles into a dataset with fields: id, title, url, and text extracted from parsing results. The HuggingFace `datasets` library provides several key advantages over plain JSON files:\n",
    "\n",
    "- **Efficiency**: The datasets are memory-mapped, allowing you to work with data that's larger than your available RAM without loading the entire dataset into memory. \n",
    "- **Speed**: Datasets in the HuggingFace format (which is Arrow-based) can be loaded faster than large JSON files, facilitating quicker data operations.\n",
    "- **Columnar Storage**: By using Apache Arrow for storage, HuggingFace datasets benefit from a columnar format that ensures more efficient serialization and deserialization compared to row-based storage, such as JSON.\n"
   ]
  },
  {
   "cell_type": "code",
   "execution_count": 39,
   "metadata": {},
   "outputs": [
    {
     "name": "stdout",
     "output_type": "stream",
     "text": [
      "Number of rows: 50\n",
      "Column names: ['_id', 'title', 'url', 'text', 'hero', 'villain', 'victim']\n",
      "Features (schema): {'_id': Value(dtype='string', id=None), 'title': Value(dtype='string', id=None), 'url': Value(dtype='string', id=None), 'text': Value(dtype='string', id=None), 'hero': Sequence(feature=Value(dtype='string', id=None), length=-1, id=None), 'villain': Sequence(feature=Value(dtype='string', id=None), length=-1, id=None), 'victim': Sequence(feature=Value(dtype='string', id=None), length=-1, id=None)}\n"
     ]
    }
   ],
   "source": [
    "column_names = [\"_id\", \"title\", \"url\", \"parsing_result.text\", \"denoising_result.hero\", \"denoising_result.villain\", \"denoising_result.victim\"]\n",
    "articles = convertListToDataset(articles, column_names)\n",
    "describeDataset(articles)"
   ]
  },
  {
   "cell_type": "code",
   "execution_count": 40,
   "metadata": {},
   "outputs": [
    {
     "name": "stdout",
     "output_type": "stream",
     "text": [
      "Example Article Text:  January 19, 2016 at 10:46 am EST By Taegan Goddard 25 Comments Former Defense Secretary Robert Gate\n",
      "Example Article Hero: ['Robert Gates']\n",
      "Example Article Villain: []\n",
      "Example Article Victim: ['Barack Obama']\n"
     ]
    }
   ],
   "source": [
    "print(\"Example Article Text:\", articles[42][\"text\"][:100])\n",
    "print(\"Example Article Hero:\", articles[42][\"hero\"])\n",
    "print(\"Example Article Villain:\", articles[42][\"villain\"])\n",
    "print(\"Example Article Victim:\", articles[42][\"victim\"])"
   ]
  },
  {
   "cell_type": "markdown",
   "metadata": {},
   "source": [
    "Save dataset to disk:"
   ]
  },
  {
   "cell_type": "code",
   "execution_count": 41,
   "metadata": {},
   "outputs": [
    {
     "name": "stderr",
     "output_type": "stream",
     "text": [
      "Saving the dataset (1/1 shards): 100%|██████████| 50/50 [00:00<00:00, 3649.57 examples/s]\n"
     ]
    }
   ],
   "source": [
    "articles.save_to_disk('../data/input/articles')"
   ]
  },
  {
   "cell_type": "markdown",
   "metadata": {},
   "source": [
    "***"
   ]
  },
  {
   "cell_type": "markdown",
   "metadata": {},
   "source": [
    "## Prepare Dataset "
   ]
  },
  {
   "cell_type": "code",
   "execution_count": 42,
   "metadata": {},
   "outputs": [],
   "source": [
    "from langchain.text_splitter import RecursiveCharacterTextSplitter, CharacterTextSplitter\n",
    "from datasets import Dataset, load_from_disk\n",
    "from transformers import AutoTokenizer\n",
    "from multiprocessing import Pool\n",
    "from utils.preprocessing import *\n",
    "from utils.database import *\n",
    "from utils.files import *\n",
    "import transformers"
   ]
  },
  {
   "cell_type": "markdown",
   "metadata": {},
   "source": [
    "The code `os.environ[\"TOKENIZERS_PARALLELISM\"] = \"false\"` disables parallel tokenization in HuggingFace's libraries. It's a way to suppress warnings and prevent potential issues tied to multi-core tokenization.\n",
    "See: https://stackoverflow.com/questions/62691279/how-to-disable-tokenizers-parallelism-true-false-warning"
   ]
  },
  {
   "cell_type": "code",
   "execution_count": 43,
   "metadata": {},
   "outputs": [],
   "source": [
    "import os\n",
    "os.environ[\"TOKENIZERS_PARALLELISM\"] = \"false\"\n",
    "transformers.utils.logging.set_verbosity_error()"
   ]
  },
  {
   "cell_type": "markdown",
   "metadata": {},
   "source": [
    "### Import Raw Dataset"
   ]
  },
  {
   "cell_type": "code",
   "execution_count": 44,
   "metadata": {},
   "outputs": [
    {
     "name": "stdout",
     "output_type": "stream",
     "text": [
      "Number of rows: 50\n",
      "Column names: ['_id', 'title', 'url', 'text', 'hero', 'villain', 'victim']\n",
      "Features (schema): {'_id': Value(dtype='string', id=None), 'title': Value(dtype='string', id=None), 'url': Value(dtype='string', id=None), 'text': Value(dtype='string', id=None), 'hero': Sequence(feature=Value(dtype='string', id=None), length=-1, id=None), 'villain': Sequence(feature=Value(dtype='string', id=None), length=-1, id=None), 'victim': Sequence(feature=Value(dtype='string', id=None), length=-1, id=None)}\n"
     ]
    }
   ],
   "source": [
    "articles = load_from_disk('../data/input/articles')\n",
    "describeDataset(articles)"
   ]
  },
  {
   "cell_type": "markdown",
   "metadata": {},
   "source": [
    "### Prepare Dataset"
   ]
  },
  {
   "cell_type": "markdown",
   "metadata": {},
   "source": [
    "#### Define Prompt Template:"
   ]
  },
  {
   "cell_type": "code",
   "execution_count": 61,
   "metadata": {},
   "outputs": [
    {
     "name": "stdout",
     "output_type": "stream",
     "text": [
      "Discussing Donald Trump . Lorem ipsum dolor sit amet, consectetur adipiscing elit.\n"
     ]
    }
   ],
   "source": [
    "PROMPT_TEMPLATE = \"Discussing {entity} . {article}\"\n",
    "\n",
    "# Test the template with a dummy text\n",
    "print(PROMPT_TEMPLATE.format(entity='Donald Trump',\n",
    "      article='Lorem ipsum dolor sit amet, consectetur adipiscing elit.'))\n"
   ]
  },
  {
   "cell_type": "markdown",
   "metadata": {},
   "source": [
    "#### Expand Dataset"
   ]
  },
  {
   "cell_type": "markdown",
   "metadata": {},
   "source": [
    "Functions to segment articles into chunks fitting within the input window:"
   ]
  },
  {
   "cell_type": "code",
   "execution_count": 62,
   "metadata": {},
   "outputs": [
    {
     "name": "stdout",
     "output_type": "stream",
     "text": [
      "Input window length: 512\n"
     ]
    }
   ],
   "source": [
    "# Load the tokenizer\n",
    "tokenizer = AutoTokenizer.from_pretrained(\"roberta-base\")\n",
    "print(\"Input window length:\", tokenizer.model_max_length)"
   ]
  },
  {
   "cell_type": "code",
   "execution_count": 63,
   "metadata": {},
   "outputs": [
    {
     "name": "stdout",
     "output_type": "stream",
     "text": [
      "Max length of empty prompt template: 9\n"
     ]
    }
   ],
   "source": [
    "template_length = calcInputLength(tokenizer, PROMPT_TEMPLATE.format(entity='Donald Trump', article=' '))\n",
    "print(\"Max length of empty prompt template:\", template_length)"
   ]
  },
  {
   "cell_type": "markdown",
   "metadata": {},
   "source": [
    "For each article, distinct prompts identify 'hero', 'villain', and 'victim'. If an article exceeds the model's input size, it's divided into chunks, generating additional prompts. It seems that one article results in about 10 to 12 prompts."
   ]
  },
  {
   "cell_type": "code",
   "execution_count": 64,
   "metadata": {},
   "outputs": [
    {
     "data": {
      "text/plain": [
       "{'_id': '64d8eb39516b2658722931a5',\n",
       " 'title': 'Gates Says Obama Has Too Many &#8216;Yes Men&#8217;',\n",
       " 'url': 'https://politicalwire.com/2016/01/19/gates-says-obama-has-too-many-yes-men/',\n",
       " 'text': \" January 19, 2016 at 10:46 am EST By Taegan Goddard 25 Comments Former Defense Secretary Robert Gates suggested on MSNBC that President Obama has “centralized power and operational activities of the government in the White House to a degree that I think is unparalleled.” He added: “I don’t see the kind of strong people around the President who will push back on him. I will give him credit. I pushed back on him a lot and he never shut me down. He never told me to be quiet or refused to see me or anything like that. But I don’t see people around him like that now. “ Filed Under: Governing, White House Tagged With: Barack Obama, Robert Gates Donald Trump said on Truth Social that his lawyers would prefer that he didn’t have a Monday new conference to unveil his “irrefutable” evidence of fraud in the 2020 Georgia… “The current thinking among Donald Trump’s campaign advisers and those close to the former president is that he is not planning on participating in next week’s Republican presidential primary debate… “The U.S. intelligence community assesses that Ukraine’s counteroffensive will fail to reach the key southeastern city of Melitopol, a finding that, should it prove correct, would mean Kyiv won’t fulfill… “Lawyers for former President Donald Trump asked a judge on Thursday to reject the government’s proposal to take Mr. Trump to trial in early January on charges of seeking to… “North Korea’s successful test launch on July 12 of a nuclear-capable intercontinental ballistic missile equipped to penetrate U.S. missile defenses is likely the result of technical cooperation sourced to Russia,”… “We have been very lean and mean… we certainly don’t want to peak too soon.” — Miami Mayor Francis Suarez, on NBC News, on his apparent lack of any presidential… CNN: “The 98-page document alleges the 30 unindicted co-conspirators, who are not named, ‘constituted a criminal organization whose members and associates engaged in various related criminal activities’ across the 41… “The House Judiciary Committee is escalating its probe into Biden administration efforts to address disinformation, issuing subpoenas to Attorney General Merrick Garland and FBI Director Christopher Wray,” The Hill reports…. “The Fulton County sheriff’s department is investigating threats made against Georgia grand jurors who indicted former President Donald Trump for election interference,” Semafor reports. “The jurors’ personal information had been… Sen. Kyrsten Sinema (I-AZ) is calling on both the Biden administration and Sen. Tommy Tuberville (R-AL) to soften their positions and find a “middle ground” on a Pentagon policy involving… NBC News: “Tester has already ramped up his re-election bid by adding staffers across Montana and raising millions of dollars. While Democrats hope Tester’s deep connection to his home state… “President Joe Biden is using the presidential retreat at Camp David to help with a diplomatic mission – hosting the first-ever trilateral summit with Japan and South Korea, two countries… “Long among the most sensitive subjects inside the West Wing, Hunter Biden’s legal saga now appears destined to play out amid his father’s bid for reelection, frustrating the president but… “A Connecticut alderman and mayoral candidate is pressing ahead with his campaign after being charged this week by federal prosecutors with illegally entering the U.S. Capitol during the riot on… “A dual citizen of France and Canada who sent letters containing homemade ricin to then-President Donald Trump and eight Texas law enforcement officials was sentenced Thursday to nearly 22 years… “A group that works to elect Democrats as the top election officials in states around the country is planning a $10 million venture to pay for private security for election… “John Dean, the White House counsel to former President Nixon, predicted a grim fate for former New York City mayor and Trump ally Rudy Giuliani, who faces mounting legal fees… “Credit Suisse’s internal probe into allegations that it concealed information about accounts held by Nazis after World War II failed to review all available records, including some that may reveal… Donald Trump is upset that Fox News continues to use photos of him that make him look fat and orange. Write Trump on Truth Social: “Why doesn’t Fox and Friends… Jonathan Last: “It would not surprise me—at all—if Trump chooses to surrender himself on August 23. He’d then take over the entire news cycle that day with its wall-to-wall coverage… Members get exclusive analysis, a trending news page, bonus newsletters and no advertising. Learn more. Subscribe Taegan Goddard is the founder of Political Wire, one of the earliest and most influential political web sites. He also runs Political Job Hunt, Electoral Vote Map and the Political Dictionary. Goddard spent more than a decade as managing director and chief operating officer of a prominent investment firm in New York City. Previously, he was a policy adviser to a U.S. Senator and Governor. Goddard is also co-author of You Won - Now What? (Scribner, 1998), a political management book hailed by prominent journalists and politicians from both parties. In addition, Goddard's essays on politics and public policy have appeared in dozens of newspapers across the country. Goddard earned degrees from Vassar College and Harvard University. He lives in New York with his wife and three sons. Goddard is the owner of Goddard Media LLC. “There are a lot of blogs and news sites claiming to understand politics, but only a few actually do. Political Wire is one of them.” — Chuck Todd, host of “Meet the Press” “Concise. Relevant. To the point. Political Wire is the first site I check when I’m looking for the latest political nugget. That pretty much says it all.” — Stuart Rothenberg, editor of the Rothenberg Political Report “Political Wire is one of only four or five sites that I check every day and sometimes several times a day, for the latest political news and developments.” — Charlie Cook, editor of the Cook Political Report “The big news, delicious tidbits, pearls of wisdom — nicely packaged, constantly updated… What political junkie could ask for more?” — Larry Sabato, Center for Politics, University of Virginia “Political Wire is a great, great site.” — Joe Scarborough, host of MSNBC’s “Morning Joe” “Taegan Goddard has a knack for digging out political gems that too often get passed over by the mainstream press, and for delivering the latest electoral developments in a sharp, no frills style that makes his Political Wire an addictive blog habit you don’t want to kick.” — Arianna Huffington, founder of The Huffington Post “Political Wire is one of the absolute must-read sites in the blogosphere.” — Glenn Reynolds, founder of Instapundit “I rely on Taegan Goddard’s Political Wire for straight, fair political news, he gets right to the point. It’s an eagerly anticipated part of my news reading.” — Craig Newmark, founder of Craigslist. Copyright ©\\xa02023 · Goddard Media LLC | Privacy Policy Political Wire ® is a registered trademark of Goddard Media LLC\",\n",
       " 'hero': ['Robert Gates'],\n",
       " 'villain': [],\n",
       " 'victim': ['Barack Obama']}"
      ]
     },
     "execution_count": 64,
     "metadata": {},
     "output_type": "execute_result"
    }
   ],
   "source": [
    "articles[42]"
   ]
  },
  {
   "cell_type": "code",
   "execution_count": 65,
   "metadata": {},
   "outputs": [],
   "source": [
    "def expandRow(row, template, col_name=\"text\", roles=['hero', 'villain', 'victim']):\n",
    "    \"\"\"\n",
    "    Generate prompts based on various roles and text chunks from the input row.\n",
    "    \"\"\"\n",
    "    prompts = []\n",
    "\n",
    "    # Generate prompts for each role and text chunk\n",
    "    for role in roles:\n",
    "        for entity in row.get(role, []):\n",
    "            text = row.get(col_name, \"\")\n",
    "            prompt = template.format(entity=entity, article=text)\n",
    "            new_row = {\n",
    "                **row,\n",
    "                'prompt': prompt,\n",
    "                'role': role,\n",
    "                'entity': entity,\n",
    "            }\n",
    "            prompts.append(new_row)\n",
    "            \n",
    "    return prompts"
   ]
  },
  {
   "cell_type": "code",
   "execution_count": 66,
   "metadata": {},
   "outputs": [
    {
     "name": "stdout",
     "output_type": "stream",
     "text": [
      "Example Prompt: Discussing Robert Gates .  January 19, 2016 at 10:46 am EST By Taegan Goddard 25 Comments Former Defense Secretary Robert Gates suggested on MSNBC that President Obama has “centralized power and operational activities of the government in the White House to a degree that I think is unparalleled.” He added: “I don’t see the kind of strong people around the President who will push back on him. I will give him credit. I pushed back on him a lot and he never shut me down. He never told me to be quiet or refused to see me or anything like that. But I don’t see people around him like that now. “ Filed Under: Governing, White House Tagged With: Barack Obama, Robert Gates Donald Trump said on Truth Social that his lawyers would prefer that he didn’t have a Monday new conference to unveil his “irrefutable” evidence of fraud in the 2020 Georgia… “The current thinking among Donald Trump’s campaign advisers and those close to the former president is that he is not planning on participating in next week’s Republican presidential primary debate… “The U.S. intelligence community assesses that Ukraine’s counteroffensive will fail to reach the key southeastern city of Melitopol, a finding that, should it prove correct, would mean Kyiv won’t fulfill… “Lawyers for former President Donald Trump asked a judge on Thursday to reject the government’s proposal to take Mr. Trump to trial in early January on charges of seeking to… “North Korea’s successful test launch on July 12 of a nuclear-capable intercontinental ballistic missile equipped to penetrate U.S. missile defenses is likely the result of technical cooperation sourced to Russia,”… “We have been very lean and mean… we certainly don’t want to peak too soon.” — Miami Mayor Francis Suarez, on NBC News, on his apparent lack of any presidential… CNN: “The 98-page document alleges the 30 unindicted co-conspirators, who are not named, ‘constituted a criminal organization whose members and associates engaged in various related criminal activities’ across the 41… “The House Judiciary Committee is escalating its probe into Biden administration efforts to address disinformation, issuing subpoenas to Attorney General Merrick Garland and FBI Director Christopher Wray,” The Hill reports…. “The Fulton County sheriff’s department is investigating threats made against Georgia grand jurors who indicted former President Donald Trump for election interference,” Semafor reports. “The jurors’ personal information had been… Sen. Kyrsten Sinema (I-AZ) is calling on both the Biden administration and Sen. Tommy Tuberville (R-AL) to soften their positions and find a “middle ground” on a Pentagon policy involving… NBC News: “Tester has already ramped up his re-election bid by adding staffers across Montana and raising millions of dollars. While Democrats hope Tester’s deep connection to his home state… “President Joe Biden is using the presidential retreat at Camp David to help with a diplomatic mission – hosting the first-ever trilateral summit with Japan and South Korea, two countries… “Long among the most sensitive subjects inside the West Wing, Hunter Biden’s legal saga now appears destined to play out amid his father’s bid for reelection, frustrating the president but… “A Connecticut alderman and mayoral candidate is pressing ahead with his campaign after being charged this week by federal prosecutors with illegally entering the U.S. Capitol during the riot on… “A dual citizen of France and Canada who sent letters containing homemade ricin to then-President Donald Trump and eight Texas law enforcement officials was sentenced Thursday to nearly 22 years… “A group that works to elect Democrats as the top election officials in states around the country is planning a $10 million venture to pay for private security for election… “John Dean, the White House counsel to former President Nixon, predicted a grim fate for former New York City mayor and Trump ally Rudy Giuliani, who faces mounting legal fees… “Credit Suisse’s internal probe into allegations that it concealed information about accounts held by Nazis after World War II failed to review all available records, including some that may reveal… Donald Trump is upset that Fox News continues to use photos of him that make him look fat and orange. Write Trump on Truth Social: “Why doesn’t Fox and Friends… Jonathan Last: “It would not surprise me—at all—if Trump chooses to surrender himself on August 23. He’d then take over the entire news cycle that day with its wall-to-wall coverage… Members get exclusive analysis, a trending news page, bonus newsletters and no advertising. Learn more. Subscribe Taegan Goddard is the founder of Political Wire, one of the earliest and most influential political web sites. He also runs Political Job Hunt, Electoral Vote Map and the Political Dictionary. Goddard spent more than a decade as managing director and chief operating officer of a prominent investment firm in New York City. Previously, he was a policy adviser to a U.S. Senator and Governor. Goddard is also co-author of You Won - Now What? (Scribner, 1998), a political management book hailed by prominent journalists and politicians from both parties. In addition, Goddard's essays on politics and public policy have appeared in dozens of newspapers across the country. Goddard earned degrees from Vassar College and Harvard University. He lives in New York with his wife and three sons. Goddard is the owner of Goddard Media LLC. “There are a lot of blogs and news sites claiming to understand politics, but only a few actually do. Political Wire is one of them.” — Chuck Todd, host of “Meet the Press” “Concise. Relevant. To the point. Political Wire is the first site I check when I’m looking for the latest political nugget. That pretty much says it all.” — Stuart Rothenberg, editor of the Rothenberg Political Report “Political Wire is one of only four or five sites that I check every day and sometimes several times a day, for the latest political news and developments.” — Charlie Cook, editor of the Cook Political Report “The big news, delicious tidbits, pearls of wisdom — nicely packaged, constantly updated… What political junkie could ask for more?” — Larry Sabato, Center for Politics, University of Virginia “Political Wire is a great, great site.” — Joe Scarborough, host of MSNBC’s “Morning Joe” “Taegan Goddard has a knack for digging out political gems that too often get passed over by the mainstream press, and for delivering the latest electoral developments in a sharp, no frills style that makes his Political Wire an addictive blog habit you don’t want to kick.” — Arianna Huffington, founder of The Huffington Post “Political Wire is one of the absolute must-read sites in the blogosphere.” — Glenn Reynolds, founder of Instapundit “I rely on Taegan Goddard’s Political Wire for straight, fair political news, he gets right to the point. It’s an eagerly anticipated part of my news reading.” — Craig Newmark, founder of Craigslist. Copyright © 2023 · Goddard Media LLC | Privacy Policy Political Wire ® is a registered trademark of Goddard Media LLC\n",
      "Expanded row: [{'_id': '64d8eb39516b2658722931a5', 'title': 'Gates Says Obama Has Too Many &#8216;Yes Men&#8217;', 'url': 'https://politicalwire.com/2016/01/19/gates-says-obama-has-too-many-yes-men/', 'text': \" January 19, 2016 at 10:46 am EST By Taegan Goddard 25 Comments Former Defense Secretary Robert Gates suggested on MSNBC that President Obama has “centralized power and operational activities of the government in the White House to a degree that I think is unparalleled.” He added: “I don’t see the kind of strong people around the President who will push back on him. I will give him credit. I pushed back on him a lot and he never shut me down. He never told me to be quiet or refused to see me or anything like that. But I don’t see people around him like that now. “ Filed Under: Governing, White House Tagged With: Barack Obama, Robert Gates Donald Trump said on Truth Social that his lawyers would prefer that he didn’t have a Monday new conference to unveil his “irrefutable” evidence of fraud in the 2020 Georgia… “The current thinking among Donald Trump’s campaign advisers and those close to the former president is that he is not planning on participating in next week’s Republican presidential primary debate… “The U.S. intelligence community assesses that Ukraine’s counteroffensive will fail to reach the key southeastern city of Melitopol, a finding that, should it prove correct, would mean Kyiv won’t fulfill… “Lawyers for former President Donald Trump asked a judge on Thursday to reject the government’s proposal to take Mr. Trump to trial in early January on charges of seeking to… “North Korea’s successful test launch on July 12 of a nuclear-capable intercontinental ballistic missile equipped to penetrate U.S. missile defenses is likely the result of technical cooperation sourced to Russia,”… “We have been very lean and mean… we certainly don’t want to peak too soon.” — Miami Mayor Francis Suarez, on NBC News, on his apparent lack of any presidential… CNN: “The 98-page document alleges the 30 unindicted co-conspirators, who are not named, ‘constituted a criminal organization whose members and associates engaged in various related criminal activities’ across the 41… “The House Judiciary Committee is escalating its probe into Biden administration efforts to address disinformation, issuing subpoenas to Attorney General Merrick Garland and FBI Director Christopher Wray,” The Hill reports…. “The Fulton County sheriff’s department is investigating threats made against Georgia grand jurors who indicted former President Donald Trump for election interference,” Semafor reports. “The jurors’ personal information had been… Sen. Kyrsten Sinema (I-AZ) is calling on both the Biden administration and Sen. Tommy Tuberville (R-AL) to soften their positions and find a “middle ground” on a Pentagon policy involving… NBC News: “Tester has already ramped up his re-election bid by adding staffers across Montana and raising millions of dollars. While Democrats hope Tester’s deep connection to his home state… “President Joe Biden is using the presidential retreat at Camp David to help with a diplomatic mission – hosting the first-ever trilateral summit with Japan and South Korea, two countries… “Long among the most sensitive subjects inside the West Wing, Hunter Biden’s legal saga now appears destined to play out amid his father’s bid for reelection, frustrating the president but… “A Connecticut alderman and mayoral candidate is pressing ahead with his campaign after being charged this week by federal prosecutors with illegally entering the U.S. Capitol during the riot on… “A dual citizen of France and Canada who sent letters containing homemade ricin to then-President Donald Trump and eight Texas law enforcement officials was sentenced Thursday to nearly 22 years… “A group that works to elect Democrats as the top election officials in states around the country is planning a $10 million venture to pay for private security for election… “John Dean, the White House counsel to former President Nixon, predicted a grim fate for former New York City mayor and Trump ally Rudy Giuliani, who faces mounting legal fees… “Credit Suisse’s internal probe into allegations that it concealed information about accounts held by Nazis after World War II failed to review all available records, including some that may reveal… Donald Trump is upset that Fox News continues to use photos of him that make him look fat and orange. Write Trump on Truth Social: “Why doesn’t Fox and Friends… Jonathan Last: “It would not surprise me—at all—if Trump chooses to surrender himself on August 23. He’d then take over the entire news cycle that day with its wall-to-wall coverage… Members get exclusive analysis, a trending news page, bonus newsletters and no advertising. Learn more. Subscribe Taegan Goddard is the founder of Political Wire, one of the earliest and most influential political web sites. He also runs Political Job Hunt, Electoral Vote Map and the Political Dictionary. Goddard spent more than a decade as managing director and chief operating officer of a prominent investment firm in New York City. Previously, he was a policy adviser to a U.S. Senator and Governor. Goddard is also co-author of You Won - Now What? (Scribner, 1998), a political management book hailed by prominent journalists and politicians from both parties. In addition, Goddard's essays on politics and public policy have appeared in dozens of newspapers across the country. Goddard earned degrees from Vassar College and Harvard University. He lives in New York with his wife and three sons. Goddard is the owner of Goddard Media LLC. “There are a lot of blogs and news sites claiming to understand politics, but only a few actually do. Political Wire is one of them.” — Chuck Todd, host of “Meet the Press” “Concise. Relevant. To the point. Political Wire is the first site I check when I’m looking for the latest political nugget. That pretty much says it all.” — Stuart Rothenberg, editor of the Rothenberg Political Report “Political Wire is one of only four or five sites that I check every day and sometimes several times a day, for the latest political news and developments.” — Charlie Cook, editor of the Cook Political Report “The big news, delicious tidbits, pearls of wisdom — nicely packaged, constantly updated… What political junkie could ask for more?” — Larry Sabato, Center for Politics, University of Virginia “Political Wire is a great, great site.” — Joe Scarborough, host of MSNBC’s “Morning Joe” “Taegan Goddard has a knack for digging out political gems that too often get passed over by the mainstream press, and for delivering the latest electoral developments in a sharp, no frills style that makes his Political Wire an addictive blog habit you don’t want to kick.” — Arianna Huffington, founder of The Huffington Post “Political Wire is one of the absolute must-read sites in the blogosphere.” — Glenn Reynolds, founder of Instapundit “I rely on Taegan Goddard’s Political Wire for straight, fair political news, he gets right to the point. It’s an eagerly anticipated part of my news reading.” — Craig Newmark, founder of Craigslist. Copyright ©\\xa02023 · Goddard Media LLC | Privacy Policy Political Wire ® is a registered trademark of Goddard Media LLC\", 'hero': ['Robert Gates'], 'villain': [], 'victim': ['Barack Obama'], 'prompt': \"Discussing Robert Gates .  January 19, 2016 at 10:46 am EST By Taegan Goddard 25 Comments Former Defense Secretary Robert Gates suggested on MSNBC that President Obama has “centralized power and operational activities of the government in the White House to a degree that I think is unparalleled.” He added: “I don’t see the kind of strong people around the President who will push back on him. I will give him credit. I pushed back on him a lot and he never shut me down. He never told me to be quiet or refused to see me or anything like that. But I don’t see people around him like that now. “ Filed Under: Governing, White House Tagged With: Barack Obama, Robert Gates Donald Trump said on Truth Social that his lawyers would prefer that he didn’t have a Monday new conference to unveil his “irrefutable” evidence of fraud in the 2020 Georgia… “The current thinking among Donald Trump’s campaign advisers and those close to the former president is that he is not planning on participating in next week’s Republican presidential primary debate… “The U.S. intelligence community assesses that Ukraine’s counteroffensive will fail to reach the key southeastern city of Melitopol, a finding that, should it prove correct, would mean Kyiv won’t fulfill… “Lawyers for former President Donald Trump asked a judge on Thursday to reject the government’s proposal to take Mr. Trump to trial in early January on charges of seeking to… “North Korea’s successful test launch on July 12 of a nuclear-capable intercontinental ballistic missile equipped to penetrate U.S. missile defenses is likely the result of technical cooperation sourced to Russia,”… “We have been very lean and mean… we certainly don’t want to peak too soon.” — Miami Mayor Francis Suarez, on NBC News, on his apparent lack of any presidential… CNN: “The 98-page document alleges the 30 unindicted co-conspirators, who are not named, ‘constituted a criminal organization whose members and associates engaged in various related criminal activities’ across the 41… “The House Judiciary Committee is escalating its probe into Biden administration efforts to address disinformation, issuing subpoenas to Attorney General Merrick Garland and FBI Director Christopher Wray,” The Hill reports…. “The Fulton County sheriff’s department is investigating threats made against Georgia grand jurors who indicted former President Donald Trump for election interference,” Semafor reports. “The jurors’ personal information had been… Sen. Kyrsten Sinema (I-AZ) is calling on both the Biden administration and Sen. Tommy Tuberville (R-AL) to soften their positions and find a “middle ground” on a Pentagon policy involving… NBC News: “Tester has already ramped up his re-election bid by adding staffers across Montana and raising millions of dollars. While Democrats hope Tester’s deep connection to his home state… “President Joe Biden is using the presidential retreat at Camp David to help with a diplomatic mission – hosting the first-ever trilateral summit with Japan and South Korea, two countries… “Long among the most sensitive subjects inside the West Wing, Hunter Biden’s legal saga now appears destined to play out amid his father’s bid for reelection, frustrating the president but… “A Connecticut alderman and mayoral candidate is pressing ahead with his campaign after being charged this week by federal prosecutors with illegally entering the U.S. Capitol during the riot on… “A dual citizen of France and Canada who sent letters containing homemade ricin to then-President Donald Trump and eight Texas law enforcement officials was sentenced Thursday to nearly 22 years… “A group that works to elect Democrats as the top election officials in states around the country is planning a $10 million venture to pay for private security for election… “John Dean, the White House counsel to former President Nixon, predicted a grim fate for former New York City mayor and Trump ally Rudy Giuliani, who faces mounting legal fees… “Credit Suisse’s internal probe into allegations that it concealed information about accounts held by Nazis after World War II failed to review all available records, including some that may reveal… Donald Trump is upset that Fox News continues to use photos of him that make him look fat and orange. Write Trump on Truth Social: “Why doesn’t Fox and Friends… Jonathan Last: “It would not surprise me—at all—if Trump chooses to surrender himself on August 23. He’d then take over the entire news cycle that day with its wall-to-wall coverage… Members get exclusive analysis, a trending news page, bonus newsletters and no advertising. Learn more. Subscribe Taegan Goddard is the founder of Political Wire, one of the earliest and most influential political web sites. He also runs Political Job Hunt, Electoral Vote Map and the Political Dictionary. Goddard spent more than a decade as managing director and chief operating officer of a prominent investment firm in New York City. Previously, he was a policy adviser to a U.S. Senator and Governor. Goddard is also co-author of You Won - Now What? (Scribner, 1998), a political management book hailed by prominent journalists and politicians from both parties. In addition, Goddard's essays on politics and public policy have appeared in dozens of newspapers across the country. Goddard earned degrees from Vassar College and Harvard University. He lives in New York with his wife and three sons. Goddard is the owner of Goddard Media LLC. “There are a lot of blogs and news sites claiming to understand politics, but only a few actually do. Political Wire is one of them.” — Chuck Todd, host of “Meet the Press” “Concise. Relevant. To the point. Political Wire is the first site I check when I’m looking for the latest political nugget. That pretty much says it all.” — Stuart Rothenberg, editor of the Rothenberg Political Report “Political Wire is one of only four or five sites that I check every day and sometimes several times a day, for the latest political news and developments.” — Charlie Cook, editor of the Cook Political Report “The big news, delicious tidbits, pearls of wisdom — nicely packaged, constantly updated… What political junkie could ask for more?” — Larry Sabato, Center for Politics, University of Virginia “Political Wire is a great, great site.” — Joe Scarborough, host of MSNBC’s “Morning Joe” “Taegan Goddard has a knack for digging out political gems that too often get passed over by the mainstream press, and for delivering the latest electoral developments in a sharp, no frills style that makes his Political Wire an addictive blog habit you don’t want to kick.” — Arianna Huffington, founder of The Huffington Post “Political Wire is one of the absolute must-read sites in the blogosphere.” — Glenn Reynolds, founder of Instapundit “I rely on Taegan Goddard’s Political Wire for straight, fair political news, he gets right to the point. It’s an eagerly anticipated part of my news reading.” — Craig Newmark, founder of Craigslist. Copyright ©\\xa02023 · Goddard Media LLC | Privacy Policy Political Wire ® is a registered trademark of Goddard Media LLC\", 'role': 'hero', 'entity': 'Robert Gates'}, {'_id': '64d8eb39516b2658722931a5', 'title': 'Gates Says Obama Has Too Many &#8216;Yes Men&#8217;', 'url': 'https://politicalwire.com/2016/01/19/gates-says-obama-has-too-many-yes-men/', 'text': \" January 19, 2016 at 10:46 am EST By Taegan Goddard 25 Comments Former Defense Secretary Robert Gates suggested on MSNBC that President Obama has “centralized power and operational activities of the government in the White House to a degree that I think is unparalleled.” He added: “I don’t see the kind of strong people around the President who will push back on him. I will give him credit. I pushed back on him a lot and he never shut me down. He never told me to be quiet or refused to see me or anything like that. But I don’t see people around him like that now. “ Filed Under: Governing, White House Tagged With: Barack Obama, Robert Gates Donald Trump said on Truth Social that his lawyers would prefer that he didn’t have a Monday new conference to unveil his “irrefutable” evidence of fraud in the 2020 Georgia… “The current thinking among Donald Trump’s campaign advisers and those close to the former president is that he is not planning on participating in next week’s Republican presidential primary debate… “The U.S. intelligence community assesses that Ukraine’s counteroffensive will fail to reach the key southeastern city of Melitopol, a finding that, should it prove correct, would mean Kyiv won’t fulfill… “Lawyers for former President Donald Trump asked a judge on Thursday to reject the government’s proposal to take Mr. Trump to trial in early January on charges of seeking to… “North Korea’s successful test launch on July 12 of a nuclear-capable intercontinental ballistic missile equipped to penetrate U.S. missile defenses is likely the result of technical cooperation sourced to Russia,”… “We have been very lean and mean… we certainly don’t want to peak too soon.” — Miami Mayor Francis Suarez, on NBC News, on his apparent lack of any presidential… CNN: “The 98-page document alleges the 30 unindicted co-conspirators, who are not named, ‘constituted a criminal organization whose members and associates engaged in various related criminal activities’ across the 41… “The House Judiciary Committee is escalating its probe into Biden administration efforts to address disinformation, issuing subpoenas to Attorney General Merrick Garland and FBI Director Christopher Wray,” The Hill reports…. “The Fulton County sheriff’s department is investigating threats made against Georgia grand jurors who indicted former President Donald Trump for election interference,” Semafor reports. “The jurors’ personal information had been… Sen. Kyrsten Sinema (I-AZ) is calling on both the Biden administration and Sen. Tommy Tuberville (R-AL) to soften their positions and find a “middle ground” on a Pentagon policy involving… NBC News: “Tester has already ramped up his re-election bid by adding staffers across Montana and raising millions of dollars. While Democrats hope Tester’s deep connection to his home state… “President Joe Biden is using the presidential retreat at Camp David to help with a diplomatic mission – hosting the first-ever trilateral summit with Japan and South Korea, two countries… “Long among the most sensitive subjects inside the West Wing, Hunter Biden’s legal saga now appears destined to play out amid his father’s bid for reelection, frustrating the president but… “A Connecticut alderman and mayoral candidate is pressing ahead with his campaign after being charged this week by federal prosecutors with illegally entering the U.S. Capitol during the riot on… “A dual citizen of France and Canada who sent letters containing homemade ricin to then-President Donald Trump and eight Texas law enforcement officials was sentenced Thursday to nearly 22 years… “A group that works to elect Democrats as the top election officials in states around the country is planning a $10 million venture to pay for private security for election… “John Dean, the White House counsel to former President Nixon, predicted a grim fate for former New York City mayor and Trump ally Rudy Giuliani, who faces mounting legal fees… “Credit Suisse’s internal probe into allegations that it concealed information about accounts held by Nazis after World War II failed to review all available records, including some that may reveal… Donald Trump is upset that Fox News continues to use photos of him that make him look fat and orange. Write Trump on Truth Social: “Why doesn’t Fox and Friends… Jonathan Last: “It would not surprise me—at all—if Trump chooses to surrender himself on August 23. He’d then take over the entire news cycle that day with its wall-to-wall coverage… Members get exclusive analysis, a trending news page, bonus newsletters and no advertising. Learn more. Subscribe Taegan Goddard is the founder of Political Wire, one of the earliest and most influential political web sites. He also runs Political Job Hunt, Electoral Vote Map and the Political Dictionary. Goddard spent more than a decade as managing director and chief operating officer of a prominent investment firm in New York City. Previously, he was a policy adviser to a U.S. Senator and Governor. Goddard is also co-author of You Won - Now What? (Scribner, 1998), a political management book hailed by prominent journalists and politicians from both parties. In addition, Goddard's essays on politics and public policy have appeared in dozens of newspapers across the country. Goddard earned degrees from Vassar College and Harvard University. He lives in New York with his wife and three sons. Goddard is the owner of Goddard Media LLC. “There are a lot of blogs and news sites claiming to understand politics, but only a few actually do. Political Wire is one of them.” — Chuck Todd, host of “Meet the Press” “Concise. Relevant. To the point. Political Wire is the first site I check when I’m looking for the latest political nugget. That pretty much says it all.” — Stuart Rothenberg, editor of the Rothenberg Political Report “Political Wire is one of only four or five sites that I check every day and sometimes several times a day, for the latest political news and developments.” — Charlie Cook, editor of the Cook Political Report “The big news, delicious tidbits, pearls of wisdom — nicely packaged, constantly updated… What political junkie could ask for more?” — Larry Sabato, Center for Politics, University of Virginia “Political Wire is a great, great site.” — Joe Scarborough, host of MSNBC’s “Morning Joe” “Taegan Goddard has a knack for digging out political gems that too often get passed over by the mainstream press, and for delivering the latest electoral developments in a sharp, no frills style that makes his Political Wire an addictive blog habit you don’t want to kick.” — Arianna Huffington, founder of The Huffington Post “Political Wire is one of the absolute must-read sites in the blogosphere.” — Glenn Reynolds, founder of Instapundit “I rely on Taegan Goddard’s Political Wire for straight, fair political news, he gets right to the point. It’s an eagerly anticipated part of my news reading.” — Craig Newmark, founder of Craigslist. Copyright ©\\xa02023 · Goddard Media LLC | Privacy Policy Political Wire ® is a registered trademark of Goddard Media LLC\", 'hero': ['Robert Gates'], 'villain': [], 'victim': ['Barack Obama'], 'prompt': \"Discussing Barack Obama .  January 19, 2016 at 10:46 am EST By Taegan Goddard 25 Comments Former Defense Secretary Robert Gates suggested on MSNBC that President Obama has “centralized power and operational activities of the government in the White House to a degree that I think is unparalleled.” He added: “I don’t see the kind of strong people around the President who will push back on him. I will give him credit. I pushed back on him a lot and he never shut me down. He never told me to be quiet or refused to see me or anything like that. But I don’t see people around him like that now. “ Filed Under: Governing, White House Tagged With: Barack Obama, Robert Gates Donald Trump said on Truth Social that his lawyers would prefer that he didn’t have a Monday new conference to unveil his “irrefutable” evidence of fraud in the 2020 Georgia… “The current thinking among Donald Trump’s campaign advisers and those close to the former president is that he is not planning on participating in next week’s Republican presidential primary debate… “The U.S. intelligence community assesses that Ukraine’s counteroffensive will fail to reach the key southeastern city of Melitopol, a finding that, should it prove correct, would mean Kyiv won’t fulfill… “Lawyers for former President Donald Trump asked a judge on Thursday to reject the government’s proposal to take Mr. Trump to trial in early January on charges of seeking to… “North Korea’s successful test launch on July 12 of a nuclear-capable intercontinental ballistic missile equipped to penetrate U.S. missile defenses is likely the result of technical cooperation sourced to Russia,”… “We have been very lean and mean… we certainly don’t want to peak too soon.” — Miami Mayor Francis Suarez, on NBC News, on his apparent lack of any presidential… CNN: “The 98-page document alleges the 30 unindicted co-conspirators, who are not named, ‘constituted a criminal organization whose members and associates engaged in various related criminal activities’ across the 41… “The House Judiciary Committee is escalating its probe into Biden administration efforts to address disinformation, issuing subpoenas to Attorney General Merrick Garland and FBI Director Christopher Wray,” The Hill reports…. “The Fulton County sheriff’s department is investigating threats made against Georgia grand jurors who indicted former President Donald Trump for election interference,” Semafor reports. “The jurors’ personal information had been… Sen. Kyrsten Sinema (I-AZ) is calling on both the Biden administration and Sen. Tommy Tuberville (R-AL) to soften their positions and find a “middle ground” on a Pentagon policy involving… NBC News: “Tester has already ramped up his re-election bid by adding staffers across Montana and raising millions of dollars. While Democrats hope Tester’s deep connection to his home state… “President Joe Biden is using the presidential retreat at Camp David to help with a diplomatic mission – hosting the first-ever trilateral summit with Japan and South Korea, two countries… “Long among the most sensitive subjects inside the West Wing, Hunter Biden’s legal saga now appears destined to play out amid his father’s bid for reelection, frustrating the president but… “A Connecticut alderman and mayoral candidate is pressing ahead with his campaign after being charged this week by federal prosecutors with illegally entering the U.S. Capitol during the riot on… “A dual citizen of France and Canada who sent letters containing homemade ricin to then-President Donald Trump and eight Texas law enforcement officials was sentenced Thursday to nearly 22 years… “A group that works to elect Democrats as the top election officials in states around the country is planning a $10 million venture to pay for private security for election… “John Dean, the White House counsel to former President Nixon, predicted a grim fate for former New York City mayor and Trump ally Rudy Giuliani, who faces mounting legal fees… “Credit Suisse’s internal probe into allegations that it concealed information about accounts held by Nazis after World War II failed to review all available records, including some that may reveal… Donald Trump is upset that Fox News continues to use photos of him that make him look fat and orange. Write Trump on Truth Social: “Why doesn’t Fox and Friends… Jonathan Last: “It would not surprise me—at all—if Trump chooses to surrender himself on August 23. He’d then take over the entire news cycle that day with its wall-to-wall coverage… Members get exclusive analysis, a trending news page, bonus newsletters and no advertising. Learn more. Subscribe Taegan Goddard is the founder of Political Wire, one of the earliest and most influential political web sites. He also runs Political Job Hunt, Electoral Vote Map and the Political Dictionary. Goddard spent more than a decade as managing director and chief operating officer of a prominent investment firm in New York City. Previously, he was a policy adviser to a U.S. Senator and Governor. Goddard is also co-author of You Won - Now What? (Scribner, 1998), a political management book hailed by prominent journalists and politicians from both parties. In addition, Goddard's essays on politics and public policy have appeared in dozens of newspapers across the country. Goddard earned degrees from Vassar College and Harvard University. He lives in New York with his wife and three sons. Goddard is the owner of Goddard Media LLC. “There are a lot of blogs and news sites claiming to understand politics, but only a few actually do. Political Wire is one of them.” — Chuck Todd, host of “Meet the Press” “Concise. Relevant. To the point. Political Wire is the first site I check when I’m looking for the latest political nugget. That pretty much says it all.” — Stuart Rothenberg, editor of the Rothenberg Political Report “Political Wire is one of only four or five sites that I check every day and sometimes several times a day, for the latest political news and developments.” — Charlie Cook, editor of the Cook Political Report “The big news, delicious tidbits, pearls of wisdom — nicely packaged, constantly updated… What political junkie could ask for more?” — Larry Sabato, Center for Politics, University of Virginia “Political Wire is a great, great site.” — Joe Scarborough, host of MSNBC’s “Morning Joe” “Taegan Goddard has a knack for digging out political gems that too often get passed over by the mainstream press, and for delivering the latest electoral developments in a sharp, no frills style that makes his Political Wire an addictive blog habit you don’t want to kick.” — Arianna Huffington, founder of The Huffington Post “Political Wire is one of the absolute must-read sites in the blogosphere.” — Glenn Reynolds, founder of Instapundit “I rely on Taegan Goddard’s Political Wire for straight, fair political news, he gets right to the point. It’s an eagerly anticipated part of my news reading.” — Craig Newmark, founder of Craigslist. Copyright ©\\xa02023 · Goddard Media LLC | Privacy Policy Political Wire ® is a registered trademark of Goddard Media LLC\", 'role': 'victim', 'entity': 'Barack Obama'}]\n",
      "Expanded row length: 2\n"
     ]
    }
   ],
   "source": [
    "roles=['hero', 'villain', 'victim']\n",
    "col_name=\"text\"\n",
    "\n",
    "example_row = articles[42]\n",
    "example_row_exp = expandRow(example_row, PROMPT_TEMPLATE, col_name, roles)\n",
    "\n",
    "print(\"Example Prompt:\", example_row_exp[0].get(\"prompt\"))\n",
    "print(\"Expanded row:\", example_row_exp)\n",
    "print(\"Expanded row length:\", len(example_row_exp))"
   ]
  },
  {
   "cell_type": "markdown",
   "metadata": {},
   "source": [
    "Process datataset using multiple proesses:"
   ]
  },
  {
   "cell_type": "code",
   "execution_count": 67,
   "metadata": {},
   "outputs": [
    {
     "data": {
      "text/plain": [
       "'Discussing {entity} . {article}'"
      ]
     },
     "execution_count": 67,
     "metadata": {},
     "output_type": "execute_result"
    }
   ],
   "source": [
    "PROMPT_TEMPLATE"
   ]
  },
  {
   "cell_type": "code",
   "execution_count": 68,
   "metadata": {},
   "outputs": [],
   "source": [
    "num_processes = 12\n",
    "params = (PROMPT_TEMPLATE, col_name, roles,)\n",
    "dataset_hvv = processDataset(articles, num_processes, expandRow, params)\n"
   ]
  },
  {
   "cell_type": "code",
   "execution_count": 69,
   "metadata": {},
   "outputs": [
    {
     "name": "stderr",
     "output_type": "stream",
     "text": [
      "Saving the dataset (1/1 shards): 100%|██████████| 112/112 [00:00<00:00, 6025.45 examples/s]\n"
     ]
    }
   ],
   "source": [
    "dataset_hvv.save_to_disk('../data/input/articles_chunkified')"
   ]
  },
  {
   "cell_type": "markdown",
   "metadata": {},
   "source": [
    "***"
   ]
  },
  {
   "cell_type": "markdown",
   "metadata": {},
   "source": [
    "## Tokenize Dataset\n",
    "\n",
    "Tokenization refers to the process of converting input text into smaller units, such as words or subwords, which are then represented as tokens. These tokens are mapped to indices in a vocabulary that the model can understand. Hugging Face provides a variety of tokenizers, each suited for different types of models. For instance, the BertTokenizer is designed for BERT-like models and tokenizes text into wordpieces. Similarly, the GPT2Tokenizer is tailored for GPT-2-like models and tokenizes text into subwords using the Byte-Pair Encoding (BPE) algorithm. "
   ]
  },
  {
   "cell_type": "markdown",
   "metadata": {},
   "source": [
    "#### Parameters\n",
    "\n",
    "Below are descriptions of key parameters helpful for using these tokenizers:\n",
    "\n",
    "**`add_special_tokens`**:\n",
    "* Whether to add special tokens such as `[CLS]` and `[SEP]` (default is True).\n",
    "* Special tokens are necessary for some models to function properly.\n",
    "\n",
    "**`max_length`**:\n",
    "* The maximum number of tokens for the output (default varies, often 512).\n",
    "* Texts longer than this will be truncated.\n",
    "\n",
    "**`padding`**:\n",
    "* Whether to pad the output to `max_length`, and the padding strategy (default is False).\n",
    "* Options include `'max_length'`, `'longest'`, or `True` to pad to the length of the longest sequence.\n",
    "\n",
    "**`truncation`**:\n",
    "* Whether to truncate sequences to `max_length` (default is False).\n",
    "\n",
    "**`return_tensors`**:\n",
    "* The framework to use for the returned tensors, either `'pt'` for PyTorch or `'tf'` for TensorFlow (default is None, which returns plain lists).\n",
    "\n",
    "**`return_token_type_ids`**:\n",
    "* Whether to return token type IDs (default is True).\n",
    "* Necessary for some models to understand the different segments of input (e.g., question vs answer).\n",
    "\n",
    "**`return_attention_mask`**:\n",
    "* Whether to return the attention mask (default is True).\n",
    "* Attention masks tell the model which tokens to pay attention to and which to ignore.\n",
    "\n",
    "**`verbose`**:\n",
    "* Whether to log information during tokenization (default is True).\n",
    "\n",
    "**`is_split_into_words`**:\n",
    "* Whether the input is pre-tokenized into words (default is False).\n",
    "\n",
    "These parameters allow for fine-grained control over the tokenization process, ensuring the text is prepared in a way that's suitable for your model and task.\n",
    "\n",
    "For more information, consider checking the [`encode` and `encode_plus` methods documentation](https://huggingface.co/transformers/main_classes/tokenizer.html).\n"
   ]
  },
  {
   "cell_type": "code",
   "execution_count": 70,
   "metadata": {},
   "outputs": [
    {
     "name": "stderr",
     "output_type": "stream",
     "text": [
      "Map:   0%|          | 0/112 [00:00<?, ? examples/s]"
     ]
    },
    {
     "name": "stderr",
     "output_type": "stream",
     "text": [
      "Map: 100%|██████████| 112/112 [00:00<00:00, 299.78 examples/s]\n"
     ]
    }
   ],
   "source": [
    "# Paramater passed to the tokenizer\n",
    "tokenizer_params = {\"truncation\": True, \"is_split_into_words\": False,\n",
    "                    \"add_special_tokens\": True, \"padding\": \"max_length\"}\n",
    "\n",
    "# Parameters passed to the tokenization function\n",
    "params = {\"tokenizer\": tokenizer, \"col_name\": \"prompt\", \"params\": tokenizer_params}\n",
    "\n",
    "# Tokenize the dataset\n",
    "tokenized_dataset = dataset_hvv.map(tokenizeInputs, fn_kwargs=params)"
   ]
  },
  {
   "cell_type": "code",
   "execution_count": 71,
   "metadata": {},
   "outputs": [],
   "source": [
    "def tokenizeEntity(example):\n",
    "    \"\"\"Tokenize the inputs\"\"\"\n",
    "\n",
    "    tokenized_entity = tokenizer(\n",
    "        \" \" + example[\"entity\"], add_special_tokens=False, padding=\"max_length\")\n",
    "\n",
    "    # Combine original data with the tokenized inputs\n",
    "    example.update({'entity_tokenized': tokenized_entity[\"input_ids\"]})\n",
    "    # example['prompt_length'] = len(tokenized_inputs['input_ids'])\n",
    "    return example"
   ]
  },
  {
   "cell_type": "code",
   "execution_count": 72,
   "metadata": {},
   "outputs": [
    {
     "name": "stderr",
     "output_type": "stream",
     "text": [
      "Tokenizing Entity (num_proc=12): 100%|██████████| 112/112 [00:00<00:00, 264.22 examples/s]\n"
     ]
    }
   ],
   "source": [
    "tokenized_dataset = tokenized_dataset.map(tokenizeEntity, desc=\"Tokenizing Entity\", num_proc=num_processes)"
   ]
  },
  {
   "cell_type": "code",
   "execution_count": 73,
   "metadata": {},
   "outputs": [
    {
     "name": "stderr",
     "output_type": "stream",
     "text": [
      "Saving the dataset (1/1 shards): 100%|██████████| 112/112 [00:00<00:00, 3677.57 examples/s]\n"
     ]
    }
   ],
   "source": [
    "tokenized_dataset.save_to_disk('../data/input/articles_tokenized')"
   ]
  },
  {
   "cell_type": "code",
   "execution_count": 76,
   "metadata": {},
   "outputs": [],
   "source": [
    "dataset = tokenized_dataset"
   ]
  },
  {
   "cell_type": "markdown",
   "metadata": {},
   "source": [
    "***"
   ]
  },
  {
   "cell_type": "markdown",
   "metadata": {},
   "source": [
    "## Make Predictions"
   ]
  },
  {
   "cell_type": "code",
   "execution_count": 83,
   "metadata": {},
   "outputs": [],
   "source": [
    "from torch.utils.data import DataLoader, TensorDataset, SequentialSampler\n",
    "from datasets import Dataset, load_from_disk, concatenate_datasets\n",
    "from transformers import AutoTokenizer, AutoModelForSeq2SeqLM\n",
    "from transformers import RobertaModel, RobertaTokenizer\n",
    "from tqdm import tqdm\n",
    "import threading\n",
    "import torch\n",
    "import pickle\n",
    "import time\n",
    "import copy"
   ]
  },
  {
   "cell_type": "code",
   "execution_count": 78,
   "metadata": {},
   "outputs": [
    {
     "name": "stdout",
     "output_type": "stream",
     "text": [
      "Dataset length: 112\n"
     ]
    }
   ],
   "source": [
    "dataset = load_from_disk('../data/input/articles_tokenized')\n",
    "print(\"Dataset length:\", len(dataset))"
   ]
  },
  {
   "cell_type": "markdown",
   "metadata": {},
   "source": [
    "### Split Dataset"
   ]
  },
  {
   "cell_type": "markdown",
   "metadata": {},
   "source": [
    "List infos about the available GPUs:"
   ]
  },
  {
   "cell_type": "code",
   "execution_count": 79,
   "metadata": {},
   "outputs": [
    {
     "name": "stdout",
     "output_type": "stream",
     "text": [
      "GPU 0:\n",
      "  Name: Tesla P100-PCIE-16GB\n",
      "  Memory: 16276.00 MiB\n",
      "  Compute Capability: 6.0\n",
      "\n",
      "GPU 1:\n",
      "  Name: Tesla P100-PCIE-16GB\n",
      "  Memory: 16276.00 MiB\n",
      "  Compute Capability: 6.0\n",
      "\n"
     ]
    }
   ],
   "source": [
    "gpu_info_list = listAvailableGPUs()"
   ]
  },
  {
   "cell_type": "markdown",
   "metadata": {},
   "source": [
    "Determine the number of available GPUs:"
   ]
  },
  {
   "cell_type": "code",
   "execution_count": 80,
   "metadata": {},
   "outputs": [
    {
     "name": "stdout",
     "output_type": "stream",
     "text": [
      "Number of available GPUs: 2\n"
     ]
    }
   ],
   "source": [
    "num_gpus = torch.cuda.device_count()\n",
    "print(f'Number of available GPUs: {num_gpus}')\n"
   ]
  },
  {
   "cell_type": "code",
   "execution_count": 81,
   "metadata": {},
   "outputs": [
    {
     "name": "stdout",
     "output_type": "stream",
     "text": [
      "Number of chunks: 2\n",
      "Chunk 0 length: 56\n",
      "Chunk 1 length: 56\n"
     ]
    }
   ],
   "source": [
    "# Split the dataset into chunks (one for each GPU)\n",
    "chunks = splitDataset(dataset, num_chunks=num_gpus)\n",
    "\n",
    "# Print the length of each chunk\n",
    "print(\"Number of chunks:\", len(chunks))\n",
    "for i, chunk in enumerate(chunks):\n",
    "    print(f\"Chunk {i} length:\", len(chunk))\n"
   ]
  },
  {
   "cell_type": "markdown",
   "metadata": {},
   "source": [
    "### Process Articles"
   ]
  },
  {
   "cell_type": "markdown",
   "metadata": {},
   "source": [
    "Check GPU utilization:"
   ]
  },
  {
   "cell_type": "code",
   "execution_count": 82,
   "metadata": {},
   "outputs": [
    {
     "name": "stdout",
     "output_type": "stream",
     "text": [
      "Sun Oct 22 10:20:28 2023       \n",
      "+-----------------------------------------------------------------------------+\n",
      "| NVIDIA-SMI 525.125.06   Driver Version: 525.125.06   CUDA Version: 12.0     |\n",
      "|-------------------------------+----------------------+----------------------+\n",
      "| GPU  Name        Persistence-M| Bus-Id        Disp.A | Volatile Uncorr. ECC |\n",
      "| Fan  Temp  Perf  Pwr:Usage/Cap|         Memory-Usage | GPU-Util  Compute M. |\n",
      "|                               |                      |               MIG M. |\n",
      "|===============================+======================+======================|\n",
      "|   0  Tesla P100-PCIE...  Off  | 00000000:17:00.0 Off |                    0 |\n",
      "| N/A   46C    P0    34W / 250W |  10758MiB / 16384MiB |      0%      Default |\n",
      "|                               |                      |                  N/A |\n",
      "+-------------------------------+----------------------+----------------------+\n",
      "|   1  Tesla P100-PCIE...  Off  | 00000000:65:00.0 Off |                    0 |\n",
      "| N/A   47C    P0    36W / 250W |  10596MiB / 16384MiB |      0%      Default |\n",
      "|                               |                      |                  N/A |\n",
      "+-------------------------------+----------------------+----------------------+\n",
      "                                                                               \n",
      "+-----------------------------------------------------------------------------+\n",
      "| Processes:                                                                  |\n",
      "|  GPU   GI   CI        PID   Type   Process name                  GPU Memory |\n",
      "|        ID   ID                                                   Usage      |\n",
      "|=============================================================================|\n",
      "|    0   N/A  N/A   1749444      C   ...nvs/mediacloud/bin/python    10756MiB |\n",
      "|    1   N/A  N/A   1749444      C   ...nvs/mediacloud/bin/python    10594MiB |\n",
      "+-----------------------------------------------------------------------------+\n"
     ]
    }
   ],
   "source": [
    "!nvidia-smi"
   ]
  },
  {
   "cell_type": "markdown",
   "metadata": {},
   "source": [
    "#### Parameters for Text Generation\n",
    "\n",
    "Each parameter influences the text generation in a specific way. Below are the parameters along with a brief explanation:\n",
    "\n",
    "**`max_length`**:\n",
    "* Sets the maximum number of tokens in the generated text (default is 50).\n",
    "* Generation stops if the maximum length is reached before the model produces an EOS token.\n",
    "* A higher `max_length` allows for longer generated texts but may increase the time and computational resources required.\n",
    "\n",
    "**`min_length`**:\n",
    "* Sets the minimum number of tokens in the generated text (default is 10).\n",
    "* Generation continues until this minimum length is reached even if an EOS token is produced.\n",
    "\n",
    "**`num_beams`**:\n",
    "* In beam search, sets the number of \"beams\" or hypotheses to keep at each step (default is 4).\n",
    "* A higher number of beams increases the chances of finding a good output but also increases the computational cost.\n",
    "\n",
    "**`num_return_sequences`**:\n",
    "* Specifies the number of independently computed sequences to return (default is 3).\n",
    "* When using sampling, multiple different sequences are generated independently from each other.\n",
    "\n",
    "**`early_stopping`**:\n",
    "* Stops generation if the model produces the EOS (End Of Sentence) token, even if the predefined maximum length is not reached (default is True).\n",
    "* Useful when an EOS token signifies the logical end of a text (often represented as `</s>`).\n",
    "\n",
    "**`do_sample`**:\n",
    "* Tokens are selected probabilistically based on their likelihood scores (default is True).\n",
    "* Introduces randomness into the generation process for diverse outputs.\n",
    "* The level of randomness is controlled by the 'temperature' parameter.\n",
    "\n",
    "**`temperature`**:\n",
    "* Adjusts the probability distribution used for sampling the next token (default is 0.7).\n",
    "* Higher values make the generation more random, while lower values make it more deterministic.\n",
    "\n",
    "**`top_k`**:\n",
    "* Limits the number of tokens considered for sampling at each step to the top K most likely tokens (default is 50).\n",
    "* Can make the generation process faster and more focused.\n",
    "\n",
    "**`top_p`**:\n",
    "* Also known as nucleus sampling, sets a cumulative probability threshold (default is 0.95).\n",
    "* Tokens are sampled only from the smallest set whose cumulative probability exceeds this threshold.\n",
    "\n",
    "**`repetition_penalty`**:\n",
    "* Discourages the model from repeating the same token by modifying the token's score (default is 1.5).\n",
    "* Values greater than 1.0 penalize repetitions, and values less than 1.0 encourage repetitions.\n"
   ]
  },
  {
   "cell_type": "code",
   "execution_count": 89,
   "metadata": {},
   "outputs": [],
   "source": [
    "def generatePredictions(process_id, dataset, device):\n",
    "    \"\"\"Generates predictions for a given dataset.\"\"\"\n",
    "\n",
    "    # Print some information about the process\n",
    "    print(f\"--------- Process {process_id:02} ---------\")\n",
    "    print(f\"Dataset length: {len(dataset)}\")\n",
    "    print(f\"Device: {device}\")\n",
    "    print(f\"------------------------------\")\n",
    "\n",
    "    tokenizer = RobertaTokenizer.from_pretrained(\"roberta-base\")\n",
    "    model = RobertaModel.from_pretrained(\"roberta-base\")\n",
    "    model.eval()\n",
    "    model.to(device)\n",
    "\n",
    "    print(\"Device:\", torch.cuda.get_device_name())\n",
    "\n",
    "    dataset_full = copy.copy(dataset)\n",
    "    dataset_full.set_format(type='torch', columns=[\n",
    "        'input_ids', 'attention_mask', \"entity_tokenized\"])\n",
    "\n",
    "    # Create dataloader without explicit sampler for sequential loading\n",
    "    BATCH_SIZE = 256\n",
    "    dataloader = DataLoader(\n",
    "        dataset_full, batch_size=BATCH_SIZE, shuffle=False)\n",
    "\n",
    "    # Make predictions\n",
    "    predictions = []\n",
    "\n",
    "    with torch.no_grad():\n",
    "        for batch in tqdm(dataloader, desc=\"Batches\"):\n",
    "            batch = {k: v.to(device) for k, v in batch.items()}\n",
    "\n",
    "            # Get embeddings\n",
    "            outputs = model(\n",
    "                input_ids=batch['input_ids'], attention_mask=batch['attention_mask'])\n",
    "            embeddings = outputs.last_hidden_state\n",
    "\n",
    "            # Optional: If you want average embeddings for each sequence\n",
    "            # average_embeddings = embeddings.mean(dim=1)\n",
    "\n",
    "            # # Get the token IDs of the person's name to extract their embeddings\n",
    "            # name_ids = tokenizer.encode(name, add_special_tokens=False)\n",
    "\n",
    "            batch_name_embeddings = []\n",
    "            for sequence_embeddings, input_ids_sequence, input_ids_entity in zip(embeddings, batch['input_ids'], batch['entity_tokenized']):\n",
    "\n",
    "                # Remove padding\n",
    "                true_name_ids = input_ids_entity[input_ids_entity != 1]\n",
    "\n",
    "                # Find the start index of the name tokens in the current sequence\n",
    "                start_idx = 3\n",
    "\n",
    "                # Extract the embeddings corresponding to the person's name for the current sequence\n",
    "                current_name_embeddings = sequence_embeddings[start_idx:start_idx+len(\n",
    "                    true_name_ids), :]\n",
    "\n",
    "                # Optional: If you want average embeddings for the name\n",
    "                average_name_embedding = current_name_embeddings.mean(dim=0)\n",
    "                batch_name_embeddings.append(average_name_embedding)\n",
    "\n",
    "            # Move embeddings back to CPU to save GPU memory\n",
    "            # Note: The following line is incorrect because batch_name_embeddings is a list. We should stack the tensors first and then move them to CPU.\n",
    "            # batch_name_embeddings = batch_name_embeddings.cpu()\n",
    "\n",
    "            # Corrected:\n",
    "            tensor_name_embeddings = [embedding.cpu()\n",
    "                                      for embedding in batch_name_embeddings]\n",
    "            predictions.extend(tensor_name_embeddings)\n",
    "\n",
    "            torch.cuda.empty_cache()\n",
    "\n",
    "    # results.extend(predictions)\n",
    "\n",
    "    print(\"GPU finished:\", len(predictions))\n",
    "\n",
    "    #Ensure the new column has the same number of items as the dataset\n",
    "    assert len(dataset_full) == len(\n",
    "        predictions), \"The length of new_column_values must match the dataset's length\"\n",
    "\n",
    "    #print(\"Dataset length:\", len(dataset_full))\n",
    "\n",
    "    # Add new column\n",
    "    predictions_list = [tensor.tolist() for tensor in predictions]\n",
    "    dataset_full = dataset_full.add_column('answer', predictions_list)\n",
    "    dataset_full.save_to_disk('data/output/articles_processed_' + str(id))\n",
    "\n",
    "    return dataset_full\n",
    "    "
   ]
  },
  {
   "cell_type": "markdown",
   "metadata": {},
   "source": [
    "Start one thread per GPU before collecting and merging the results:"
   ]
  },
  {
   "cell_type": "code",
   "execution_count": 90,
   "metadata": {},
   "outputs": [
    {
     "name": "stdout",
     "output_type": "stream",
     "text": [
      "--------- Process 00 ---------\n",
      "Dataset length: 56\n",
      "Device: cuda:0\n",
      "------------------------------\n",
      "--------- Process 01 ---------\n",
      "Dataset length: 56\n",
      "Device: cuda:1\n",
      "------------------------------\n",
      "Device: Tesla P100-PCIE-16GB\n"
     ]
    },
    {
     "name": "stderr",
     "output_type": "stream",
     "text": [
      "Batches:   0%|          | 0/1 [00:00<?, ?it/s]"
     ]
    },
    {
     "name": "stdout",
     "output_type": "stream",
     "text": [
      "Device: Tesla P100-PCIE-16GB\n"
     ]
    },
    {
     "name": "stderr",
     "output_type": "stream",
     "text": [
      "Batches: 100%|██████████| 1/1 [00:01<00:00,  1.17s/it]\n"
     ]
    },
    {
     "name": "stdout",
     "output_type": "stream",
     "text": [
      "GPU finished: 56\n"
     ]
    },
    {
     "name": "stderr",
     "output_type": "stream",
     "text": [
      "Saving the dataset (1/1 shards): 100%|██████████| 56/56 [00:00<00:00, 6428.58 examples/s]\n",
      "Batches: 100%|██████████| 1/1 [00:01<00:00,  1.16s/it]\n"
     ]
    },
    {
     "name": "stdout",
     "output_type": "stream",
     "text": [
      "GPU finished: 56\n"
     ]
    },
    {
     "name": "stderr",
     "output_type": "stream",
     "text": [
      "Saving the dataset (1/1 shards): 100%|██████████| 56/56 [00:00<00:00, 4727.21 examples/s]\n"
     ]
    },
    {
     "name": "stdout",
     "output_type": "stream",
     "text": [
      "Number of returned datasets: 2\n"
     ]
    },
    {
     "name": "stderr",
     "output_type": "stream",
     "text": [
      "Saving the dataset (1/1 shards): 100%|██████████| 112/112 [00:00<00:00, 3239.43 examples/s]"
     ]
    },
    {
     "name": "stdout",
     "output_type": "stream",
     "text": [
      "Processing on both GPUs completed!\n",
      "Results: 112\n"
     ]
    },
    {
     "name": "stderr",
     "output_type": "stream",
     "text": [
      "\n"
     ]
    }
   ],
   "source": [
    "# Assuming datasets and devices are lists containing the datasets and device names\n",
    "datasets = chunks  # and so on...\n",
    "devices = ['cuda:0', 'cuda:1']  # and so on...\n",
    "\n",
    "# Calls the function to start the threads\n",
    "returned_datasets = startThreads(len(datasets), datasets, devices, generatePredictions)\n",
    "print(\"Number of returned datasets:\", len(returned_datasets))\n",
    "\n",
    "# Concatenate the returned datasets\n",
    "merged_dataset = concatenate_datasets(returned_datasets)\n",
    "merged_dataset.save_to_disk('../data/output/articles_processed')\n",
    "\n",
    "# Print the length of the merged dataset\n",
    "print(\"Processing on both GPUs completed!\")\n",
    "print(\"Results:\", len(merged_dataset))"
   ]
  },
  {
   "cell_type": "code",
   "execution_count": 91,
   "metadata": {},
   "outputs": [
    {
     "data": {
      "text/plain": [
       "Dataset({\n",
       "    features: ['_id', 'title', 'url', 'text', 'hero', 'villain', 'victim', 'prompt', 'role', 'entity', 'input_ids', 'attention_mask', 'entity_tokenized', 'answer'],\n",
       "    num_rows: 112\n",
       "})"
      ]
     },
     "execution_count": 91,
     "metadata": {},
     "output_type": "execute_result"
    }
   ],
   "source": [
    "dataset = merged_dataset\n",
    "dataset"
   ]
  },
  {
   "cell_type": "markdown",
   "metadata": {},
   "source": [
    "***"
   ]
  },
  {
   "cell_type": "markdown",
   "metadata": {},
   "source": [
    "## Upload Results"
   ]
  },
  {
   "cell_type": "code",
   "execution_count": 109,
   "metadata": {},
   "outputs": [],
   "source": [
    "from utils.preprocessing import *\n",
    "from utils.database import *\n",
    "from datasets import load_from_disk\n",
    "from tqdm import tqdm"
   ]
  },
  {
   "cell_type": "code",
   "execution_count": 110,
   "metadata": {},
   "outputs": [
    {
     "name": "stdout",
     "output_type": "stream",
     "text": [
      "Number of rows: 112\n",
      "Column names: ['_id', 'title', 'url', 'text', 'hero', 'villain', 'victim', 'prompt', 'role', 'entity', 'input_ids', 'attention_mask', 'entity_tokenized', 'answer']\n",
      "Features (schema): {'_id': Value(dtype='string', id=None), 'title': Value(dtype='string', id=None), 'url': Value(dtype='string', id=None), 'text': Value(dtype='string', id=None), 'hero': Sequence(feature=Value(dtype='string', id=None), length=-1, id=None), 'villain': Sequence(feature=Value(dtype='string', id=None), length=-1, id=None), 'victim': Sequence(feature=Value(dtype='string', id=None), length=-1, id=None), 'prompt': Value(dtype='string', id=None), 'role': Value(dtype='string', id=None), 'entity': Value(dtype='string', id=None), 'input_ids': Sequence(feature=Value(dtype='int32', id=None), length=-1, id=None), 'attention_mask': Sequence(feature=Value(dtype='int8', id=None), length=-1, id=None), 'entity_tokenized': Sequence(feature=Value(dtype='int64', id=None), length=-1, id=None), 'answer': Sequence(feature=Value(dtype='float64', id=None), length=-1, id=None)}\n"
     ]
    }
   ],
   "source": [
    "del dataset\n",
    "dataset = load_from_disk('../data/output/articles_processed')\n",
    "describeDataset(dataset)"
   ]
  },
  {
   "cell_type": "code",
   "execution_count": 103,
   "metadata": {},
   "outputs": [
    {
     "name": "stdout",
     "output_type": "stream",
     "text": [
      "Role: None\n",
      "Answer: tensor([-0.1185, -0.0948, -0.0394, -0.1386,  0.6860,  0.4518, -0.1260,  0.1470,\n",
      "        -0.0445,  0.0749])\n"
     ]
    }
   ],
   "source": [
    "# Exmample amswer \n",
    "answer = dataset[0].get(\"answer\")\n",
    "role = dataset[0].get(\"role\")\n",
    "print(\"Role:\", role)\n",
    "print(\"Answer:\", answer[:10])   "
   ]
  },
  {
   "cell_type": "markdown",
   "metadata": {},
   "source": [
    "### Connect to Database"
   ]
  },
  {
   "cell_type": "code",
   "execution_count": 96,
   "metadata": {},
   "outputs": [],
   "source": [
    "_, db = getConnection(use_dotenv=True)"
   ]
  },
  {
   "cell_type": "markdown",
   "metadata": {},
   "source": [
    "### Update Documents in Database"
   ]
  },
  {
   "cell_type": "code",
   "execution_count": 99,
   "metadata": {},
   "outputs": [],
   "source": [
    "def processResults(dataset):\n",
    "    # Initial processing results\n",
    "    processing_result = {\"hero\": [], \"villain\": [], \"victim\": []}\n",
    "    object_id_prev = None\n",
    "\n",
    "    for item in dataset:\n",
    "        object_id = item['_id']\n",
    "        role = item['role']\n",
    "        answer = item['answer']\n",
    "\n",
    "        # If the object_id changes, reset the processing_result\n",
    "        if object_id_prev is not None and object_id_prev != object_id:\n",
    "            yield object_id_prev, processing_result\n",
    "            processing_result = {\"hero\": [], \"villain\": [], \"victim\": []}\n",
    "\n",
    "        processing_result[role].append(answer)\n",
    "        object_id_prev = object_id\n",
    "\n",
    "    # Yield the final processing_result if any\n",
    "    if processing_result[\"hero\"] or processing_result[\"villain\"] or processing_result[\"victim\"]:\n",
    "        yield object_id_prev, processing_result"
   ]
  },
  {
   "cell_type": "code",
   "execution_count": 100,
   "metadata": {},
   "outputs": [
    {
     "name": "stderr",
     "output_type": "stream",
     "text": [
      "Uploading results:   0%|          | 0/50 [00:00<?, ?it/s]\n"
     ]
    },
    {
     "ename": "KeyError",
     "evalue": "'_id'",
     "output_type": "error",
     "traceback": [
      "\u001b[0;31m---------------------------------------------------------------------------\u001b[0m",
      "\u001b[0;31mKeyError\u001b[0m                                  Traceback (most recent call last)",
      "\u001b[1;32m/home/jschelb/GenModel-Experiments-clean/src/Entity_Embedding.ipynb Cell 82\u001b[0m line \u001b[0;36m8\n\u001b[1;32m      <a href='vscode-notebook-cell://ssh-remote%2Bmerkur72.inf.uni-konstanz.de/home/jschelb/GenModel-Experiments-clean/src/Entity_Embedding.ipynb#Y141sdnNjb2RlLXJlbW90ZQ%3D%3D?line=4'>5</a>\u001b[0m count_unique_ids \u001b[39m=\u001b[39m \u001b[39mlen\u001b[39m(unique_ids)\n\u001b[1;32m      <a href='vscode-notebook-cell://ssh-remote%2Bmerkur72.inf.uni-konstanz.de/home/jschelb/GenModel-Experiments-clean/src/Entity_Embedding.ipynb#Y141sdnNjb2RlLXJlbW90ZQ%3D%3D?line=5'>6</a>\u001b[0m \u001b[39m# print(count_unique_ids)‚\u001b[39;00m\n\u001b[0;32m----> <a href='vscode-notebook-cell://ssh-remote%2Bmerkur72.inf.uni-konstanz.de/home/jschelb/GenModel-Experiments-clean/src/Entity_Embedding.ipynb#Y141sdnNjb2RlLXJlbW90ZQ%3D%3D?line=7'>8</a>\u001b[0m \u001b[39mfor\u001b[39;00m object_id, result \u001b[39min\u001b[39;00m tqdm(processResults(dataset), total\u001b[39m=\u001b[39mcount_unique_ids, desc\u001b[39m=\u001b[39m\u001b[39m\"\u001b[39m\u001b[39mUploading results\u001b[39m\u001b[39m\"\u001b[39m):\n\u001b[1;32m      <a href='vscode-notebook-cell://ssh-remote%2Bmerkur72.inf.uni-konstanz.de/home/jschelb/GenModel-Experiments-clean/src/Entity_Embedding.ipynb#Y141sdnNjb2RlLXJlbW90ZQ%3D%3D?line=8'>9</a>\u001b[0m     \u001b[39mpass\u001b[39;00m\n\u001b[1;32m     <a href='vscode-notebook-cell://ssh-remote%2Bmerkur72.inf.uni-konstanz.de/home/jschelb/GenModel-Experiments-clean/src/Entity_Embedding.ipynb#Y141sdnNjb2RlLXJlbW90ZQ%3D%3D?line=9'>10</a>\u001b[0m     \u001b[39m#updateProcessingResults(db, object_id, {\"embedding_result\": result})\u001b[39;00m\n",
      "File \u001b[0;32m~/.pyenv/versions/3.10.8/envs/mediacloud/lib/python3.10/site-packages/tqdm/std.py:1182\u001b[0m, in \u001b[0;36mtqdm.__iter__\u001b[0;34m(self)\u001b[0m\n\u001b[1;32m   1179\u001b[0m time \u001b[39m=\u001b[39m \u001b[39mself\u001b[39m\u001b[39m.\u001b[39m_time\n\u001b[1;32m   1181\u001b[0m \u001b[39mtry\u001b[39;00m:\n\u001b[0;32m-> 1182\u001b[0m     \u001b[39mfor\u001b[39;00m obj \u001b[39min\u001b[39;00m iterable:\n\u001b[1;32m   1183\u001b[0m         \u001b[39myield\u001b[39;00m obj\n\u001b[1;32m   1184\u001b[0m         \u001b[39m# Update and possibly print the progressbar.\u001b[39;00m\n\u001b[1;32m   1185\u001b[0m         \u001b[39m# Note: does not call self.update(1) for speed optimisation.\u001b[39;00m\n",
      "\u001b[1;32m/home/jschelb/GenModel-Experiments-clean/src/Entity_Embedding.ipynb Cell 82\u001b[0m line \u001b[0;36m7\n\u001b[1;32m      <a href='vscode-notebook-cell://ssh-remote%2Bmerkur72.inf.uni-konstanz.de/home/jschelb/GenModel-Experiments-clean/src/Entity_Embedding.ipynb#Y141sdnNjb2RlLXJlbW90ZQ%3D%3D?line=3'>4</a>\u001b[0m object_id_prev \u001b[39m=\u001b[39m \u001b[39mNone\u001b[39;00m\n\u001b[1;32m      <a href='vscode-notebook-cell://ssh-remote%2Bmerkur72.inf.uni-konstanz.de/home/jschelb/GenModel-Experiments-clean/src/Entity_Embedding.ipynb#Y141sdnNjb2RlLXJlbW90ZQ%3D%3D?line=5'>6</a>\u001b[0m \u001b[39mfor\u001b[39;00m item \u001b[39min\u001b[39;00m dataset:\n\u001b[0;32m----> <a href='vscode-notebook-cell://ssh-remote%2Bmerkur72.inf.uni-konstanz.de/home/jschelb/GenModel-Experiments-clean/src/Entity_Embedding.ipynb#Y141sdnNjb2RlLXJlbW90ZQ%3D%3D?line=6'>7</a>\u001b[0m     object_id \u001b[39m=\u001b[39m item[\u001b[39m'\u001b[39;49m\u001b[39m_id\u001b[39;49m\u001b[39m'\u001b[39;49m]\n\u001b[1;32m      <a href='vscode-notebook-cell://ssh-remote%2Bmerkur72.inf.uni-konstanz.de/home/jschelb/GenModel-Experiments-clean/src/Entity_Embedding.ipynb#Y141sdnNjb2RlLXJlbW90ZQ%3D%3D?line=7'>8</a>\u001b[0m     role \u001b[39m=\u001b[39m item[\u001b[39m'\u001b[39m\u001b[39mrole\u001b[39m\u001b[39m'\u001b[39m]\n\u001b[1;32m      <a href='vscode-notebook-cell://ssh-remote%2Bmerkur72.inf.uni-konstanz.de/home/jschelb/GenModel-Experiments-clean/src/Entity_Embedding.ipynb#Y141sdnNjb2RlLXJlbW90ZQ%3D%3D?line=8'>9</a>\u001b[0m     answer \u001b[39m=\u001b[39m item[\u001b[39m'\u001b[39m\u001b[39manswer\u001b[39m\u001b[39m'\u001b[39m]\n",
      "\u001b[0;31mKeyError\u001b[0m: '_id'"
     ]
    }
   ],
   "source": [
    "# Assuming `ds` is your dataset object\n",
    "unique_ids = set(dataset[\"_id\"])\n",
    "\n",
    "# Count of unique ids\n",
    "count_unique_ids = len(unique_ids)\n",
    "# print(count_unique_ids)‚\n",
    "\n",
    "for object_id, result in tqdm(processResults(dataset), total=count_unique_ids, desc=\"Uploading results\"):\n",
    "    pass\n",
    "    #updateProcessingResults(db, object_id, {\"embedding_result\": result})"
   ]
  },
  {
   "cell_type": "code",
   "execution_count": null,
   "metadata": {},
   "outputs": [],
   "source": []
  }
 ],
 "metadata": {
  "kernelspec": {
   "display_name": "mediacloud",
   "language": "python",
   "name": "python3"
  },
  "language_info": {
   "codemirror_mode": {
    "name": "ipython",
    "version": 3
   },
   "file_extension": ".py",
   "mimetype": "text/x-python",
   "name": "python",
   "nbconvert_exporter": "python",
   "pygments_lexer": "ipython3",
   "version": "3.10.8"
  },
  "orig_nbformat": 4
 },
 "nbformat": 4,
 "nbformat_minor": 2
}
